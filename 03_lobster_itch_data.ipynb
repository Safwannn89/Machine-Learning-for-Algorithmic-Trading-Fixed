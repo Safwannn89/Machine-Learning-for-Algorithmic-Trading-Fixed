{
 "cells": [
  {
   "cell_type": "markdown",
   "metadata": {},
   "source": [
    "# Tick Data from LOBSTER"
   ]
  },
  {
   "cell_type": "markdown",
   "metadata": {},
   "source": [
    "LOBSTER (Limit Order Book System - The Efficient Reconstructor) is an [online](https://lobsterdata.com/info/WhatIsLOBSTER.php) limit order book data tool to provide easy-to-use, high-quality limit order book data.\n",
    "\n",
    "Since 2013 LOBSTER acts as a data provider for the academic community, giving access to reconstructed limit order book data for the entire universe of NASDAQ traded stocks. \n",
    "\n",
    "More recently, it has started to make the data available on a commercial basis."
   ]
  },
  {
   "cell_type": "markdown",
   "metadata": {},
   "source": [
    "## Imports"
   ]
  },
  {
   "cell_type": "code",
   "execution_count": 5,
   "metadata": {
    "ExecuteTime": {
     "end_time": "2020-06-16T16:46:42.977793Z",
     "start_time": "2020-06-16T16:46:42.975017Z"
    }
   },
   "outputs": [],
   "source": [
    "import warnings\n",
    "warnings.filterwarnings('ignore')"
   ]
  },
  {
   "cell_type": "code",
   "execution_count": 6,
   "metadata": {
    "ExecuteTime": {
     "end_time": "2020-06-16T16:47:13.856642Z",
     "start_time": "2020-06-16T16:47:13.843765Z"
    }
   },
   "outputs": [],
   "source": [
    "%matplotlib inline\n",
    "from pathlib import Path\n",
    "from datetime import datetime, timedelta\n",
    "from itertools import chain\n",
    "\n",
    "import numpy as np\n",
    "import pandas as pd\n",
    "\n",
    "import matplotlib.pyplot as plt\n",
    "import seaborn as sns"
   ]
  },
  {
   "cell_type": "code",
   "execution_count": 7,
   "metadata": {
    "ExecuteTime": {
     "end_time": "2020-06-16T16:47:25.302024Z",
     "start_time": "2020-06-16T16:47:25.297177Z"
    }
   },
   "outputs": [],
   "source": [
    "sns.set_style('whitegrid')"
   ]
  },
  {
   "cell_type": "markdown",
   "metadata": {},
   "source": [
    "## Load Orderbook Data"
   ]
  },
  {
   "cell_type": "markdown",
   "metadata": {},
   "source": [
    "We will illustrate the functionality using a free sample."
   ]
  },
  {
   "cell_type": "markdown",
   "metadata": {},
   "source": [
    "Obtain data here: https://lobsterdata.com/info/DataSamples.php; [this](https://lobsterdata.com/info/sample/LOBSTER_SampleFile_AMZN_2012-06-21_10.zip) is the link to the 10-level file"
   ]
  },
  {
   "cell_type": "markdown",
   "metadata": {},
   "source": [
    "The code assumes the file has been extracted into a `data` subfolder of the current directory."
   ]
  },
  {
   "cell_type": "code",
   "execution_count": 12,
   "metadata": {},
   "outputs": [],
   "source": [
    "path = Path('data')"
   ]
  },
  {
   "cell_type": "markdown",
   "metadata": {},
   "source": [
    "We use the following to label the table columns:"
   ]
  },
  {
   "cell_type": "code",
   "execution_count": 14,
   "metadata": {
    "ExecuteTime": {
     "end_time": "2020-06-16T16:48:44.070178Z",
     "start_time": "2020-06-16T16:48:44.059253Z"
    }
   },
   "outputs": [
    {
     "data": {
      "text/plain": [
       "['Ask Price 0',\n",
       " 'Ask Size 0',\n",
       " 'Bid Price 0',\n",
       " 'Bid Size 0',\n",
       " 'Ask Price 1',\n",
       " 'Ask Size 1',\n",
       " 'Bid Price 1',\n",
       " 'Bid Size 1',\n",
       " 'Ask Price 2',\n",
       " 'Ask Size 2',\n",
       " 'Bid Price 2',\n",
       " 'Bid Size 2',\n",
       " 'Ask Price 3',\n",
       " 'Ask Size 3',\n",
       " 'Bid Price 3',\n",
       " 'Bid Size 3',\n",
       " 'Ask Price 4',\n",
       " 'Ask Size 4',\n",
       " 'Bid Price 4',\n",
       " 'Bid Size 4',\n",
       " 'Ask Price 5',\n",
       " 'Ask Size 5',\n",
       " 'Bid Price 5',\n",
       " 'Bid Size 5',\n",
       " 'Ask Price 6',\n",
       " 'Ask Size 6',\n",
       " 'Bid Price 6',\n",
       " 'Bid Size 6',\n",
       " 'Ask Price 7',\n",
       " 'Ask Size 7',\n",
       " 'Bid Price 7',\n",
       " 'Bid Size 7',\n",
       " 'Ask Price 8',\n",
       " 'Ask Size 8',\n",
       " 'Bid Price 8',\n",
       " 'Bid Size 8',\n",
       " 'Ask Price 9',\n",
       " 'Ask Size 9',\n",
       " 'Bid Price 9',\n",
       " 'Bid Size 9']"
      ]
     },
     "execution_count": 14,
     "metadata": {},
     "output_type": "execute_result"
    }
   ],
   "source": [
    "list(chain(*[('Ask Price {0},Ask Size {0},Bid Price {0},Bid Size {0}'.format(i)).split(',') for i in range(10)]))"
   ]
  },
  {
   "cell_type": "code",
   "execution_count": 15,
   "metadata": {
    "ExecuteTime": {
     "end_time": "2020-06-16T16:48:46.451423Z",
     "start_time": "2020-06-16T16:48:46.444985Z"
    }
   },
   "outputs": [],
   "source": [
    "price = list(chain(*[('Ask Price {0},Bid Price {0}'.format(i)).split(',') for i in range(10)]))\n",
    "size = list(chain(*[('Ask Size {0},Bid Size {0}'.format(i)).split(',') for i in range(10)]))\n",
    "cols = list(chain(*zip(price, size)))"
   ]
  },
  {
   "cell_type": "code",
   "execution_count": 16,
   "metadata": {
    "ExecuteTime": {
     "end_time": "2020-06-16T16:48:49.274714Z",
     "start_time": "2020-06-16T16:48:47.895958Z"
    }
   },
   "outputs": [],
   "source": [
    "import pandas as pd\n",
    "\n",
    "# Define column names (simplified from the original LOBSTER columns)\n",
    "cols = ['time', 'ask_price_1', 'ask_size_1', 'bid_price_1', 'bid_size_1']\n",
    "\n",
    "# Dummy order book data\n",
    "dummy_data = [\n",
    "    [34200.000000, 2713.50, 10, 2713.40, 8],\n",
    "    [34200.500000, 2713.60, 15, 2713.35, 6],\n",
    "    [34201.000000, 2713.65, 12, 2713.30, 10],\n",
    "]\n",
    "\n",
    "# Create the DataFrame\n",
    "orders = pd.DataFrame(dummy_data, columns=cols)"
   ]
  },
  {
   "cell_type": "code",
   "execution_count": 17,
   "metadata": {
    "ExecuteTime": {
     "end_time": "2018-10-29T22:02:18.999915Z",
     "start_time": "2018-10-29T22:02:18.883761Z"
    }
   },
   "outputs": [
    {
     "name": "stdout",
     "output_type": "stream",
     "text": [
      "<class 'pandas.core.frame.DataFrame'>\n",
      "RangeIndex: 3 entries, 0 to 2\n",
      "Data columns (total 5 columns):\n",
      " #   Column       Non-Null Count  Dtype  \n",
      "---  ------       --------------  -----  \n",
      " 0   time         3 non-null      float64\n",
      " 1   ask_price_1  3 non-null      float64\n",
      " 2   ask_size_1   3 non-null      int64  \n",
      " 3   bid_price_1  3 non-null      float64\n",
      " 4   bid_size_1   3 non-null      int64  \n",
      "dtypes: float64(3), int64(2)\n",
      "memory usage: 252.0 bytes\n"
     ]
    }
   ],
   "source": [
    "orders.info()"
   ]
  },
  {
   "cell_type": "code",
   "execution_count": 18,
   "metadata": {
    "ExecuteTime": {
     "end_time": "2020-06-16T16:50:04.814952Z",
     "start_time": "2020-06-16T16:50:04.792777Z"
    }
   },
   "outputs": [
    {
     "data": {
      "text/html": [
       "<div>\n",
       "<style scoped>\n",
       "    .dataframe tbody tr th:only-of-type {\n",
       "        vertical-align: middle;\n",
       "    }\n",
       "\n",
       "    .dataframe tbody tr th {\n",
       "        vertical-align: top;\n",
       "    }\n",
       "\n",
       "    .dataframe thead th {\n",
       "        text-align: right;\n",
       "    }\n",
       "</style>\n",
       "<table border=\"1\" class=\"dataframe\">\n",
       "  <thead>\n",
       "    <tr style=\"text-align: right;\">\n",
       "      <th></th>\n",
       "      <th>time</th>\n",
       "      <th>ask_price_1</th>\n",
       "      <th>ask_size_1</th>\n",
       "      <th>bid_price_1</th>\n",
       "      <th>bid_size_1</th>\n",
       "    </tr>\n",
       "  </thead>\n",
       "  <tbody>\n",
       "    <tr>\n",
       "      <th>0</th>\n",
       "      <td>34200.0</td>\n",
       "      <td>2713.50</td>\n",
       "      <td>10</td>\n",
       "      <td>2713.40</td>\n",
       "      <td>8</td>\n",
       "    </tr>\n",
       "    <tr>\n",
       "      <th>1</th>\n",
       "      <td>34200.5</td>\n",
       "      <td>2713.60</td>\n",
       "      <td>15</td>\n",
       "      <td>2713.35</td>\n",
       "      <td>6</td>\n",
       "    </tr>\n",
       "    <tr>\n",
       "      <th>2</th>\n",
       "      <td>34201.0</td>\n",
       "      <td>2713.65</td>\n",
       "      <td>12</td>\n",
       "      <td>2713.30</td>\n",
       "      <td>10</td>\n",
       "    </tr>\n",
       "  </tbody>\n",
       "</table>\n",
       "</div>"
      ],
      "text/plain": [
       "      time  ask_price_1  ask_size_1  bid_price_1  bid_size_1\n",
       "0  34200.0      2713.50          10      2713.40           8\n",
       "1  34200.5      2713.60          15      2713.35           6\n",
       "2  34201.0      2713.65          12      2713.30          10"
      ]
     },
     "execution_count": 18,
     "metadata": {},
     "output_type": "execute_result"
    }
   ],
   "source": [
    "orders.head()"
   ]
  },
  {
   "cell_type": "markdown",
   "metadata": {},
   "source": [
    "## Parse Message Data"
   ]
  },
  {
   "cell_type": "markdown",
   "metadata": {},
   "source": [
    "Message Type Codes:\n",
    "\n",
    "    1: Submission of a new limit order\n",
    "    2: Cancellation (Partial deletion \n",
    "       of a limit order)\n",
    "    3: Deletion (Total deletion of a limit order)\n",
    "    4: Execution of a visible limit order\t\t\t   \t \n",
    "    5: Execution of a hidden limit order\n",
    "    7: Trading halt indicator \t\t\t\t   \n",
    "       (Detailed information below)"
   ]
  },
  {
   "cell_type": "code",
   "execution_count": 21,
   "metadata": {
    "ExecuteTime": {
     "end_time": "2020-06-16T16:50:09.785214Z",
     "start_time": "2020-06-16T16:50:09.779708Z"
    }
   },
   "outputs": [],
   "source": [
    "types = {1: 'submission',\n",
    "         2: 'cancellation',\n",
    "         3: 'deletion',\n",
    "         4: 'execution_visible',\n",
    "         5: 'execution_hidden',\n",
    "         7: 'trading_halt'}"
   ]
  },
  {
   "cell_type": "code",
   "execution_count": 22,
   "metadata": {
    "ExecuteTime": {
     "end_time": "2020-06-16T16:50:10.104423Z",
     "start_time": "2020-06-16T16:50:10.099088Z"
    }
   },
   "outputs": [],
   "source": [
    "trading_date = '2012-06-21'\n",
    "levels = 10"
   ]
  },
  {
   "cell_type": "code",
   "execution_count": 23,
   "metadata": {
    "ExecuteTime": {
     "end_time": "2020-06-16T16:50:10.929183Z",
     "start_time": "2020-06-16T16:50:10.634355Z"
    }
   },
   "outputs": [
    {
     "name": "stdout",
     "output_type": "stream",
     "text": [
      "<class 'pandas.core.frame.DataFrame'>\n",
      "RangeIndex: 3 entries, 0 to 2\n",
      "Data columns (total 6 columns):\n",
      " #   Column     Non-Null Count  Dtype  \n",
      "---  ------     --------------  -----  \n",
      " 0   time       3 non-null      float64\n",
      " 1   type       3 non-null      int64  \n",
      " 2   order_id   3 non-null      int64  \n",
      " 3   size       3 non-null      int64  \n",
      " 4   price      3 non-null      float64\n",
      " 5   direction  3 non-null      int64  \n",
      "dtypes: float64(2), int64(4)\n",
      "memory usage: 276.0 bytes\n"
     ]
    }
   ],
   "source": [
    "import pandas as pd\n",
    "\n",
    "# Simulated structure based on LOBSTER documentation\n",
    "cols = ['time', 'type', 'order_id', 'size', 'price', 'direction']\n",
    "\n",
    "# Dummy data\n",
    "dummy_messages = [\n",
    "    [34200.000, 1, 1001, 10, 2713.50, 1],\n",
    "    [34200.500, 2, 1002, 15, 2713.40, -1],\n",
    "    [34201.000, 3, 1003, 12, 2713.30, 1],\n",
    "]\n",
    "\n",
    "messages = pd.DataFrame(dummy_messages, columns=cols)\n",
    "messages.info()"
   ]
  },
  {
   "cell_type": "code",
   "execution_count": 24,
   "metadata": {
    "ExecuteTime": {
     "end_time": "2020-06-16T16:50:12.568197Z",
     "start_time": "2020-06-16T16:50:12.553288Z"
    }
   },
   "outputs": [
    {
     "data": {
      "text/html": [
       "<div>\n",
       "<style scoped>\n",
       "    .dataframe tbody tr th:only-of-type {\n",
       "        vertical-align: middle;\n",
       "    }\n",
       "\n",
       "    .dataframe tbody tr th {\n",
       "        vertical-align: top;\n",
       "    }\n",
       "\n",
       "    .dataframe thead th {\n",
       "        text-align: right;\n",
       "    }\n",
       "</style>\n",
       "<table border=\"1\" class=\"dataframe\">\n",
       "  <thead>\n",
       "    <tr style=\"text-align: right;\">\n",
       "      <th></th>\n",
       "      <th>time</th>\n",
       "      <th>type</th>\n",
       "      <th>order_id</th>\n",
       "      <th>size</th>\n",
       "      <th>price</th>\n",
       "      <th>direction</th>\n",
       "    </tr>\n",
       "  </thead>\n",
       "  <tbody>\n",
       "    <tr>\n",
       "      <th>0</th>\n",
       "      <td>34200.0</td>\n",
       "      <td>1</td>\n",
       "      <td>1001</td>\n",
       "      <td>10</td>\n",
       "      <td>2713.5</td>\n",
       "      <td>1</td>\n",
       "    </tr>\n",
       "    <tr>\n",
       "      <th>1</th>\n",
       "      <td>34200.5</td>\n",
       "      <td>2</td>\n",
       "      <td>1002</td>\n",
       "      <td>15</td>\n",
       "      <td>2713.4</td>\n",
       "      <td>-1</td>\n",
       "    </tr>\n",
       "    <tr>\n",
       "      <th>2</th>\n",
       "      <td>34201.0</td>\n",
       "      <td>3</td>\n",
       "      <td>1003</td>\n",
       "      <td>12</td>\n",
       "      <td>2713.3</td>\n",
       "      <td>1</td>\n",
       "    </tr>\n",
       "  </tbody>\n",
       "</table>\n",
       "</div>"
      ],
      "text/plain": [
       "      time  type  order_id  size   price  direction\n",
       "0  34200.0     1      1001    10  2713.5          1\n",
       "1  34200.5     2      1002    15  2713.4         -1\n",
       "2  34201.0     3      1003    12  2713.3          1"
      ]
     },
     "execution_count": 24,
     "metadata": {},
     "output_type": "execute_result"
    }
   ],
   "source": [
    "messages.head()"
   ]
  },
  {
   "cell_type": "markdown",
   "metadata": {},
   "source": [
    "Around 80% of executions were visible, the remaining 20% were not:"
   ]
  },
  {
   "cell_type": "code",
   "execution_count": 26,
   "metadata": {
    "ExecuteTime": {
     "end_time": "2020-06-16T16:50:15.071785Z",
     "start_time": "2020-06-16T16:50:14.969265Z"
    }
   },
   "outputs": [
    {
     "data": {
      "text/plain": [
       "type\n",
       "submission      1\n",
       "cancellation    1\n",
       "deletion        1\n",
       "Name: count, dtype: int64"
      ]
     },
     "execution_count": 26,
     "metadata": {},
     "output_type": "execute_result"
    }
   ],
   "source": [
    "messages.type.map(types).value_counts()"
   ]
  },
  {
   "cell_type": "code",
   "execution_count": 27,
   "metadata": {
    "ExecuteTime": {
     "end_time": "2020-06-16T16:50:15.273102Z",
     "start_time": "2020-06-16T16:50:15.197936Z"
    }
   },
   "outputs": [
    {
     "data": {
      "text/html": [
       "<div>\n",
       "<style scoped>\n",
       "    .dataframe tbody tr th:only-of-type {\n",
       "        vertical-align: middle;\n",
       "    }\n",
       "\n",
       "    .dataframe tbody tr th {\n",
       "        vertical-align: top;\n",
       "    }\n",
       "\n",
       "    .dataframe thead th {\n",
       "        text-align: right;\n",
       "    }\n",
       "</style>\n",
       "<table border=\"1\" class=\"dataframe\">\n",
       "  <thead>\n",
       "    <tr style=\"text-align: right;\">\n",
       "      <th></th>\n",
       "      <th>time</th>\n",
       "      <th>type</th>\n",
       "      <th>order_id</th>\n",
       "      <th>size</th>\n",
       "      <th>price</th>\n",
       "      <th>direction</th>\n",
       "    </tr>\n",
       "  </thead>\n",
       "  <tbody>\n",
       "    <tr>\n",
       "      <th>0</th>\n",
       "      <td>2012-06-21 09:30:00.000</td>\n",
       "      <td>1</td>\n",
       "      <td>1001</td>\n",
       "      <td>10</td>\n",
       "      <td>2713.5</td>\n",
       "      <td>1</td>\n",
       "    </tr>\n",
       "    <tr>\n",
       "      <th>1</th>\n",
       "      <td>2012-06-21 09:30:00.500</td>\n",
       "      <td>2</td>\n",
       "      <td>1002</td>\n",
       "      <td>15</td>\n",
       "      <td>2713.4</td>\n",
       "      <td>-1</td>\n",
       "    </tr>\n",
       "    <tr>\n",
       "      <th>2</th>\n",
       "      <td>2012-06-21 09:30:01.000</td>\n",
       "      <td>3</td>\n",
       "      <td>1003</td>\n",
       "      <td>12</td>\n",
       "      <td>2713.3</td>\n",
       "      <td>1</td>\n",
       "    </tr>\n",
       "  </tbody>\n",
       "</table>\n",
       "</div>"
      ],
      "text/plain": [
       "                     time  type  order_id  size   price  direction\n",
       "0 2012-06-21 09:30:00.000     1      1001    10  2713.5          1\n",
       "1 2012-06-21 09:30:00.500     2      1002    15  2713.4         -1\n",
       "2 2012-06-21 09:30:01.000     3      1003    12  2713.3          1"
      ]
     },
     "execution_count": 27,
     "metadata": {},
     "output_type": "execute_result"
    }
   ],
   "source": [
    "messages.time = pd.to_timedelta(messages.time, unit='s')\n",
    "messages['trading_date'] = pd.to_datetime(trading_date)\n",
    "messages.time = messages.trading_date.add(messages.time)\n",
    "messages.drop('trading_date', axis=1, inplace=True)\n",
    "messages.head()"
   ]
  },
  {
   "cell_type": "markdown",
   "metadata": {},
   "source": [
    "## Combine message and price data"
   ]
  },
  {
   "cell_type": "code",
   "execution_count": 29,
   "metadata": {
    "ExecuteTime": {
     "end_time": "2020-06-16T16:50:15.593509Z",
     "start_time": "2020-06-16T16:50:15.395548Z"
    }
   },
   "outputs": [
    {
     "name": "stdout",
     "output_type": "stream",
     "text": [
      "<class 'pandas.core.frame.DataFrame'>\n",
      "RangeIndex: 3 entries, 0 to 2\n",
      "Data columns (total 11 columns):\n",
      " #   Column       Non-Null Count  Dtype         \n",
      "---  ------       --------------  -----         \n",
      " 0   time         3 non-null      datetime64[ns]\n",
      " 1   type         3 non-null      int64         \n",
      " 2   order_id     3 non-null      int64         \n",
      " 3   size         3 non-null      int64         \n",
      " 4   price        3 non-null      float64       \n",
      " 5   direction    3 non-null      int64         \n",
      " 6   time         3 non-null      float64       \n",
      " 7   ask_price_1  3 non-null      float64       \n",
      " 8   ask_size_1   3 non-null      int64         \n",
      " 9   bid_price_1  3 non-null      float64       \n",
      " 10  bid_size_1   3 non-null      int64         \n",
      "dtypes: datetime64[ns](1), float64(4), int64(6)\n",
      "memory usage: 396.0 bytes\n"
     ]
    }
   ],
   "source": [
    "data = pd.concat([messages, orders], axis=1)\n",
    "data.info()"
   ]
  },
  {
   "cell_type": "code",
   "execution_count": 30,
   "metadata": {
    "ExecuteTime": {
     "end_time": "2020-06-16T16:50:17.564814Z",
     "start_time": "2020-06-16T16:50:17.552669Z"
    }
   },
   "outputs": [],
   "source": [
    "ex = data[data.type.isin([4, 5])]"
   ]
  },
  {
   "cell_type": "code",
   "execution_count": 31,
   "metadata": {
    "ExecuteTime": {
     "end_time": "2020-06-16T16:50:18.335571Z",
     "start_time": "2020-06-16T16:50:18.314955Z"
    }
   },
   "outputs": [
    {
     "data": {
      "text/html": [
       "<div>\n",
       "<style scoped>\n",
       "    .dataframe tbody tr th:only-of-type {\n",
       "        vertical-align: middle;\n",
       "    }\n",
       "\n",
       "    .dataframe tbody tr th {\n",
       "        vertical-align: top;\n",
       "    }\n",
       "\n",
       "    .dataframe thead th {\n",
       "        text-align: right;\n",
       "    }\n",
       "</style>\n",
       "<table border=\"1\" class=\"dataframe\">\n",
       "  <thead>\n",
       "    <tr style=\"text-align: right;\">\n",
       "      <th></th>\n",
       "      <th>time</th>\n",
       "      <th>type</th>\n",
       "      <th>order_id</th>\n",
       "      <th>size</th>\n",
       "      <th>price</th>\n",
       "      <th>direction</th>\n",
       "      <th>time</th>\n",
       "      <th>ask_price_1</th>\n",
       "      <th>ask_size_1</th>\n",
       "      <th>bid_price_1</th>\n",
       "      <th>bid_size_1</th>\n",
       "    </tr>\n",
       "  </thead>\n",
       "  <tbody>\n",
       "  </tbody>\n",
       "</table>\n",
       "</div>"
      ],
      "text/plain": [
       "Empty DataFrame\n",
       "Columns: [time, type, order_id, size, price, direction, time, ask_price_1, ask_size_1, bid_price_1, bid_size_1]\n",
       "Index: []"
      ]
     },
     "execution_count": 31,
     "metadata": {},
     "output_type": "execute_result"
    }
   ],
   "source": [
    "ex.head()"
   ]
  },
  {
   "cell_type": "markdown",
   "metadata": {},
   "source": [
    "## Plot limit order prices for messages with visible or hidden execution"
   ]
  },
  {
   "cell_type": "code",
   "execution_count": 33,
   "metadata": {
    "ExecuteTime": {
     "end_time": "2020-06-16T16:50:47.143327Z",
     "start_time": "2020-06-16T16:50:47.139106Z"
    }
   },
   "outputs": [],
   "source": [
    "cmaps = {'Bid': 'Blues','Ask': 'Reds'}"
   ]
  },
  {
   "cell_type": "code",
   "execution_count": 34,
   "metadata": {
    "ExecuteTime": {
     "end_time": "2020-06-16T16:50:53.020109Z",
     "start_time": "2020-06-16T16:50:47.334530Z"
    }
   },
   "outputs": [
    {
     "name": "stdout",
     "output_type": "stream",
     "text": [
      "Index(['time', 'type', 'order_id', 'size', 'price', 'direction', 'time',\n",
      "       'ask_price_1', 'ask_size_1', 'bid_price_1', 'bid_size_1'],\n",
      "      dtype='object')\n"
     ]
    }
   ],
   "source": [
    "print(ex.columns)\n"
   ]
  },
  {
   "cell_type": "code",
   "execution_count": 35,
   "metadata": {},
   "outputs": [],
   "source": [
    "ex = ex.loc[:, ~ex.columns.duplicated()]\n",
    "\n"
   ]
  },
  {
   "cell_type": "code",
   "execution_count": 36,
   "metadata": {},
   "outputs": [],
   "source": [
    "ex['time'] = pd.to_datetime('2012-06-21 ' + ex['time'].astype(str))\n"
   ]
  },
  {
   "cell_type": "code",
   "execution_count": 37,
   "metadata": {},
   "outputs": [
    {
     "name": "stdout",
     "output_type": "stream",
     "text": [
      "Series([], Name: time, dtype: datetime64[ns])\n",
      "datetime64[ns]\n"
     ]
    }
   ],
   "source": [
    "print(ex['time'].head())\n",
    "print(ex['time'].dtype)\n"
   ]
  },
  {
   "cell_type": "code",
   "execution_count": 38,
   "metadata": {},
   "outputs": [
    {
     "data": {
      "image/png": "[encoded data removed]",
      "text/plain": [
       "<Figure size 1400x800 with 1 Axes>"
      ]
     },
     "metadata": {},
     "output_type": "display_data"
    }
   ],
   "source": [
    "import pandas as pd\n",
    "import numpy as np\n",
    "import matplotlib.pyplot as plt\n",
    "import seaborn as sns\n",
    "from datetime import datetime, timedelta\n",
    "\n",
    "# Create mock time series data\n",
    "n = 1000\n",
    "base_time = datetime(2012, 6, 21, 9, 30)\n",
    "time = [base_time + timedelta(seconds=i) for i in range(n)]\n",
    "\n",
    "ex = pd.DataFrame({\n",
    "    'time': time,\n",
    "})\n",
    "for i in range(10):\n",
    "    ex[f'Bid Price {i}'] = 100 + np.random.randn(n) * 0.1\n",
    "    ex[f'Bid Size {i}'] = np.random.randint(1, 100, size=n)\n",
    "    ex[f'Ask Price {i}'] = 100 + np.random.randn(n) * 0.1\n",
    "    ex[f'Ask Size {i}'] = np.random.randint(1, 100, size=n)\n",
    "\n",
    "# Plot\n",
    "cmaps = {'Bid': 'Blues', 'Ask': 'Reds'}\n",
    "fig, ax = plt.subplots(figsize=(14, 8))\n",
    "time = ex['time']\n",
    "\n",
    "for i in range(10):\n",
    "    for t in ['Bid', 'Ask']:\n",
    "        y = ex[f'{t} Price {i}']\n",
    "        c = ex[f'{t} Size {i}']\n",
    "        ax.scatter(x=time, y=y, c=c, cmap=cmaps[t], s=1, vmin=1, vmax=c.quantile(.95))\n",
    "\n",
    "ax.set_xlim(datetime(2012, 6, 21, 9, 30), datetime(2012, 6, 21, 16, 0))\n",
    "sns.despine()\n",
    "fig.tight_layout()\n",
    "plt.show()\n",
    "\n",
    "                    \n"
   ]
  },
  {
   "cell_type": "code",
   "execution_count": 39,
   "metadata": {},
   "outputs": [
    {
     "name": "stdout",
     "output_type": "stream",
     "text": [
      "Columns: ['time', 'Bid Price 0', 'Bid Size 0', 'Ask Price 0', 'Ask Size 0', 'Bid Price 1', 'Bid Size 1', 'Ask Price 1', 'Ask Size 1', 'Bid Price 2', 'Bid Size 2', 'Ask Price 2', 'Ask Size 2', 'Bid Price 3', 'Bid Size 3', 'Ask Price 3', 'Ask Size 3', 'Bid Price 4', 'Bid Size 4', 'Ask Price 4', 'Ask Size 4', 'Bid Price 5', 'Bid Size 5', 'Ask Price 5', 'Ask Size 5', 'Bid Price 6', 'Bid Size 6', 'Ask Price 6', 'Ask Size 6', 'Bid Price 7', 'Bid Size 7', 'Ask Price 7', 'Ask Size 7', 'Bid Price 8', 'Bid Size 8', 'Ask Price 8', 'Ask Size 8', 'Bid Price 9', 'Bid Size 9', 'Ask Price 9', 'Ask Size 9']\n",
      "Shape: (1000, 41)\n",
      "First rows:\n",
      "                  time  Bid Price 0  Bid Size 0  Ask Price 0  Ask Size 0  \\\n",
      "0 2012-06-21 09:30:00    99.883098          18    99.989539          37   \n",
      "1 2012-06-21 09:30:01    99.918619          24    99.906454          14   \n",
      "2 2012-06-21 09:30:02   100.011473           1    99.858214          84   \n",
      "3 2012-06-21 09:30:03    99.951929          12   100.151730           1   \n",
      "4 2012-06-21 09:30:04   100.068130           3    99.927840          31   \n",
      "\n",
      "   Bid Price 1  Bid Size 1  Ask Price 1  Ask Size 1  Bid Price 2  ...  \\\n",
      "0    99.895078           9    99.979995           4   100.086958  ...   \n",
      "1   100.081892          72   100.026696          14    99.978780  ...   \n",
      "2    99.960834          44    99.856353          22    99.979562  ...   \n",
      "3    99.983761          82   100.137447          34    99.964313  ...   \n",
      "4    99.813801          64   100.053512          66   100.039341  ...   \n",
      "\n",
      "   Ask Price 7  Ask Size 7  Bid Price 8  Bid Size 8  Ask Price 8  Ask Size 8  \\\n",
      "0    99.920193          87   100.064476          43   100.072770          20   \n",
      "1   100.066222          16    99.916220          62    99.941093          62   \n",
      "2    99.960089           6   100.004815          47   100.013327           7   \n",
      "3   100.018199          77   100.118892          78    99.936137          45   \n",
      "4    99.953871          91   100.013727           7   100.168199          16   \n",
      "\n",
      "   Bid Price 9  Bid Size 9  Ask Price 9  Ask Size 9  \n",
      "0   100.043405          90   100.066004           9  \n",
      "1   100.024830           4   100.201071          31  \n",
      "2    99.942398          94    99.921214          94  \n",
      "3    99.996681          56   100.036717          38  \n",
      "4    99.955308          16    99.962097          60  \n",
      "\n",
      "[5 rows x 41 columns]\n",
      "Missing 'time' values: 0\n"
     ]
    }
   ],
   "source": [
    "print(\"Columns:\", ex.columns.tolist())\n",
    "print(\"Shape:\", ex.shape)\n",
    "print(\"First rows:\\n\", ex.head())\n",
    "print(\"Missing 'time' values:\", ex['time'].isnull().sum() if 'time' in ex.columns else \"'time' not in columns\")\n"
   ]
  },
  {
   "cell_type": "markdown",
   "metadata": {},
   "source": [
    "## Plot prices for all order types"
   ]
  },
  {
   "cell_type": "code",
   "execution_count": 41,
   "metadata": {
    "ExecuteTime": {
     "end_time": "2020-06-16T16:55:44.981419Z",
     "start_time": "2020-06-16T16:53:48.679516Z"
    }
   },
   "outputs": [
    {
     "name": "stdout",
     "output_type": "stream",
     "text": [
      "Columns in DataFrame:\n",
      " ['time', 'type', 'order_id', 'size', 'price', 'direction', 'ask_price_1', 'ask_size_1', 'bid_price_1', 'bid_size_1']\n",
      "Skipping missing columns: Bid Price 0 or Bid Size 0\n",
      "Skipping missing columns: Ask Price 0 or Ask Size 0\n",
      "Skipping missing columns: Bid Price 1 or Bid Size 1\n",
      "Skipping missing columns: Ask Price 1 or Ask Size 1\n",
      "Skipping missing columns: Bid Price 2 or Bid Size 2\n",
      "Skipping missing columns: Ask Price 2 or Ask Size 2\n",
      "Skipping missing columns: Bid Price 3 or Bid Size 3\n",
      "Skipping missing columns: Ask Price 3 or Ask Size 3\n",
      "Skipping missing columns: Bid Price 4 or Bid Size 4\n",
      "Skipping missing columns: Ask Price 4 or Ask Size 4\n",
      "Skipping missing columns: Bid Price 5 or Bid Size 5\n",
      "Skipping missing columns: Ask Price 5 or Ask Size 5\n",
      "Skipping missing columns: Bid Price 6 or Bid Size 6\n",
      "Skipping missing columns: Ask Price 6 or Ask Size 6\n",
      "Skipping missing columns: Bid Price 7 or Bid Size 7\n",
      "Skipping missing columns: Ask Price 7 or Ask Size 7\n",
      "Skipping missing columns: Bid Price 8 or Bid Size 8\n",
      "Skipping missing columns: Ask Price 8 or Ask Size 8\n",
      "Skipping missing columns: Bid Price 9 or Bid Size 9\n",
      "Skipping missing columns: Ask Price 9 or Ask Size 9\n"
     ]
    }
   ],
   "source": [
    "import matplotlib.pyplot as plt\n",
    "from datetime import datetime\n",
    "import seaborn as sns\n",
    "\n",
    "# Remove duplicate columns\n",
    "data = data.loc[:, ~data.columns.duplicated()]\n",
    "\n",
    "# Print all columns to verify names\n",
    "print(\"Columns in DataFrame:\\n\", data.columns.tolist())\n",
    "\n",
    "# Convert time column\n",
    "data['time'] = pd.to_datetime(data['time'])\n",
    "\n",
    "# Plot\n",
    "fig, ax = plt.subplots(figsize=(14, 8))\n",
    "time = data['time'].dt.to_pydatetime()\n",
    "\n",
    "# Define colormap if not defined\n",
    "cmaps = {'Bid': 'Blues', 'Ask': 'Reds'}\n",
    "\n",
    "# Loop over levels and order types\n",
    "for i in range(10):\n",
    "    for t in ['Bid', 'Ask']:\n",
    "        price_col = f'{t} Price {i}'\n",
    "        size_col = f'{t} Size {i}'\n",
    "\n",
    "        if price_col in data.columns and size_col in data.columns:\n",
    "            y = data[price_col]\n",
    "            c = data[size_col]\n",
    "            ax.scatter(x=time, y=y, c=c, cmap=cmaps[t], s=1, vmin=1, vmax=c.quantile(.95))\n",
    "        else:\n",
    "            print(f\"Skipping missing columns: {price_col} or {size_col}\")\n",
    "\n",
    "# Set plot limits\n",
    "ax.set_xlim(datetime(2012, 6, 21, 9, 30), datetime(2012, 6, 21, 16, 0))\n",
    "sns.despine()\n",
    "fig.tight_layout()\n",
    "\n"
   ]
  }
 ],
 "metadata": {
  "kernelspec": {
   "display_name": "Python [conda env:base] *",
   "language": "python",
   "name": "conda-base-py"
  },
  "language_info": {
   "codemirror_mode": {
    "name": "ipython",
    "version": 3
   },
   "file_extension": ".py",
   "mimetype": "text/x-python",
   "name": "python",
   "nbconvert_exporter": "python",
   "pygments_lexer": "ipython3",
   "version": "3.12.7"
  },
  "toc": {
   "base_numbering": 1,
   "nav_menu": {},
   "number_sections": true,
   "sideBar": true,
   "skip_h1_title": false,
   "title_cell": "Table of Contents",
   "title_sidebar": "Contents",
   "toc_cell": false,
   "toc_position": {},
   "toc_section_display": true,
   "toc_window_display": false
  }
 },
 "nbformat": 4,
 "nbformat_minor": 4
}
