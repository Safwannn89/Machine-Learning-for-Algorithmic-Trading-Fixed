{
 "cells": [
  {
   "cell_type": "markdown",
   "metadata": {},
   "source": [
    "# Downloading Market and Fundamental Data with `yfinance`"
   ]
  },
  {
   "cell_type": "markdown",
   "metadata": {},
   "source": [
    "## Imports & Settings"
   ]
  },
  {
   "cell_type": "code",
   "execution_count": 31,
   "metadata": {
    "ExecuteTime": {
     "end_time": "2020-06-16T16:40:40.706465Z",
     "start_time": "2020-06-16T16:40:40.702831Z"
    }
   },
   "outputs": [],
   "source": [
    "import warnings\n",
    "warnings.filterwarnings('ignore')"
   ]
  },
  {
   "cell_type": "code",
   "execution_count": 32,
   "metadata": {
    "ExecuteTime": {
     "end_time": "2020-06-16T16:40:41.151854Z",
     "start_time": "2020-06-16T16:40:40.713025Z"
    }
   },
   "outputs": [],
   "source": [
    "import pandas as pd\n",
    "import yfinance as yf"
   ]
  },
  {
   "cell_type": "code",
   "execution_count": 33,
   "metadata": {},
   "outputs": [
    {
     "name": "stdout",
     "output_type": "stream",
     "text": [
      "Requirement already satisfied: yfinance in c:\\users\\lenovo\\anaconda3\\lib\\site-packages (0.2.65)\n",
      "Requirement already satisfied: pandas>=1.3.0 in c:\\users\\lenovo\\anaconda3\\lib\\site-packages (from yfinance) (2.2.3)\n",
      "Requirement already satisfied: numpy>=1.16.5 in c:\\users\\lenovo\\anaconda3\\lib\\site-packages (from yfinance) (2.2.4)\n",
      "Requirement already satisfied: requests>=2.31 in c:\\users\\lenovo\\anaconda3\\lib\\site-packages (from yfinance) (2.32.3)\n",
      "Requirement already satisfied: multitasking>=0.0.7 in c:\\users\\lenovo\\anaconda3\\lib\\site-packages (from yfinance) (0.0.11)\n",
      "Requirement already satisfied: platformdirs>=2.0.0 in c:\\users\\lenovo\\anaconda3\\lib\\site-packages (from yfinance) (3.10.0)\n",
      "Requirement already satisfied: pytz>=2022.5 in c:\\users\\lenovo\\anaconda3\\lib\\site-packages (from yfinance) (2024.1)\n",
      "Requirement already satisfied: frozendict>=2.3.4 in c:\\users\\lenovo\\anaconda3\\lib\\site-packages (from yfinance) (2.4.2)\n",
      "Requirement already satisfied: peewee>=3.16.2 in c:\\users\\lenovo\\anaconda3\\lib\\site-packages (from yfinance) (3.18.2)\n",
      "Requirement already satisfied: beautifulsoup4>=4.11.1 in c:\\users\\lenovo\\anaconda3\\lib\\site-packages (from yfinance) (4.12.3)\n",
      "Requirement already satisfied: curl_cffi>=0.7 in c:\\users\\lenovo\\anaconda3\\lib\\site-packages (from yfinance) (0.12.0)\n",
      "Requirement already satisfied: protobuf>=3.19.0 in c:\\users\\lenovo\\anaconda3\\lib\\site-packages (from yfinance) (5.29.3)\n",
      "Requirement already satisfied: websockets>=13.0 in c:\\users\\lenovo\\anaconda3\\lib\\site-packages (from yfinance) (15.0.1)\n",
      "Requirement already satisfied: soupsieve>1.2 in c:\\users\\lenovo\\anaconda3\\lib\\site-packages (from beautifulsoup4>=4.11.1->yfinance) (2.5)\n",
      "Requirement already satisfied: cffi>=1.12.0 in c:\\users\\lenovo\\anaconda3\\lib\\site-packages (from curl_cffi>=0.7->yfinance) (1.17.1)\n",
      "Requirement already satisfied: certifi>=2024.2.2 in c:\\users\\lenovo\\anaconda3\\lib\\site-packages (from curl_cffi>=0.7->yfinance) (2025.1.31)\n",
      "Requirement already satisfied: python-dateutil>=2.8.2 in c:\\users\\lenovo\\anaconda3\\lib\\site-packages (from pandas>=1.3.0->yfinance) (2.9.0.post0)\n",
      "Requirement already satisfied: tzdata>=2022.7 in c:\\users\\lenovo\\anaconda3\\lib\\site-packages (from pandas>=1.3.0->yfinance) (2023.3)\n",
      "Requirement already satisfied: charset-normalizer<4,>=2 in c:\\users\\lenovo\\anaconda3\\lib\\site-packages (from requests>=2.31->yfinance) (3.3.2)\n",
      "Requirement already satisfied: idna<4,>=2.5 in c:\\users\\lenovo\\anaconda3\\lib\\site-packages (from requests>=2.31->yfinance) (3.7)\n",
      "Requirement already satisfied: urllib3<3,>=1.21.1 in c:\\users\\lenovo\\anaconda3\\lib\\site-packages (from requests>=2.31->yfinance) (2.3.0)\n",
      "Requirement already satisfied: pycparser in c:\\users\\lenovo\\anaconda3\\lib\\site-packages (from cffi>=1.12.0->curl_cffi>=0.7->yfinance) (2.21)\n",
      "Requirement already satisfied: six>=1.5 in c:\\users\\lenovo\\anaconda3\\lib\\site-packages (from python-dateutil>=2.8.2->pandas>=1.3.0->yfinance) (1.16.0)\n"
     ]
    },
    {
     "name": "stderr",
     "output_type": "stream",
     "text": [
      "\n",
      "[notice] A new release of pip is available: 25.0.1 -> 25.1.1\n",
      "[notice] To update, run: python.exe -m pip install --upgrade pip\n"
     ]
    }
   ],
   "source": [
    "!pip install yfinance"
   ]
  },
  {
   "cell_type": "markdown",
   "metadata": {},
   "source": [
    "## How to work with a Ticker object"
   ]
  },
  {
   "cell_type": "code",
   "execution_count": 35,
   "metadata": {
    "ExecuteTime": {
     "end_time": "2020-06-16T16:43:17.821280Z",
     "start_time": "2020-06-16T16:43:17.809602Z"
    }
   },
   "outputs": [],
   "source": [
    "symbol = 'FB'\n",
    "ticker = yf.Ticker(symbol)"
   ]
  },
  {
   "cell_type": "markdown",
   "metadata": {},
   "source": [
    "### Show ticker info"
   ]
  },
  {
   "cell_type": "code",
   "execution_count": 37,
   "metadata": {
    "ExecuteTime": {
     "end_time": "2020-06-16T16:43:19.113524Z",
     "start_time": "2020-06-16T16:43:18.155573Z"
    }
   },
   "outputs": [
    {
     "data": {
      "text/plain": [
       "maxAge                        86400\n",
       "priceHint                         2\n",
       "previousClose                 40.36\n",
       "open                          40.48\n",
       "dayLow                        40.39\n",
       "dayHigh                        40.5\n",
       "regularMarketPreviousClose    40.36\n",
       "regularMarketOpen             40.48\n",
       "regularMarketDayLow           40.39\n",
       "regularMarketDayHigh           40.5\n",
       "volume                        97637\n",
       "regularMarketVolume           97637\n",
       "averageVolume                 25478\n",
       "averageVolume10days           26870\n",
       "averageDailyVolume10Day       26870\n",
       "bid                           20.21\n",
       "ask                             0.0\n",
       "bidSize                           1\n",
       "askSize                           1\n",
       "fiftyTwoWeekLow               39.91\n",
       "dtype: object"
      ]
     },
     "execution_count": 37,
     "metadata": {},
     "output_type": "execute_result"
    }
   ],
   "source": [
    "pd.Series(ticker.info).head(20)"
   ]
  },
  {
   "cell_type": "markdown",
   "metadata": {},
   "source": [
    "### Get market data"
   ]
  },
  {
   "cell_type": "code",
   "execution_count": 39,
   "metadata": {
    "ExecuteTime": {
     "end_time": "2020-06-16T16:43:19.347776Z",
     "start_time": "2020-06-16T16:43:19.114865Z"
    }
   },
   "outputs": [
    {
     "name": "stdout",
     "output_type": "stream",
     "text": [
      "<class 'pandas.core.frame.DataFrame'>\n",
      "DatetimeIndex: 41 entries, 2025-07-10 09:58:00-04:00 to 2025-07-16 14:30:00-04:00\n",
      "Data columns (total 8 columns):\n",
      " #   Column         Non-Null Count  Dtype  \n",
      "---  ------         --------------  -----  \n",
      " 0   Open           41 non-null     float64\n",
      " 1   High           41 non-null     float64\n",
      " 2   Low            41 non-null     float64\n",
      " 3   Close          41 non-null     float64\n",
      " 4   Volume         41 non-null     int64  \n",
      " 5   Dividends      41 non-null     float64\n",
      " 6   Stock Splits   41 non-null     float64\n",
      " 7   Capital Gains  41 non-null     float64\n",
      "dtypes: float64(7), int64(1)\n",
      "memory usage: 2.9 KB\n"
     ]
    }
   ],
   "source": [
    "data = ticker.history(period='5d',\n",
    "                      interval='1m',\n",
    "                      start=None,\n",
    "                      end=None,\n",
    "                      actions=True,\n",
    "                      auto_adjust=True,\n",
    "                      back_adjust=False)\n",
    "data.info()"
   ]
  },
  {
   "cell_type": "markdown",
   "metadata": {},
   "source": [
    "### View company actions"
   ]
  },
  {
   "cell_type": "code",
   "execution_count": 41,
   "metadata": {
    "ExecuteTime": {
     "end_time": "2020-06-16T16:43:19.368729Z",
     "start_time": "2020-06-16T16:43:19.350236Z"
    }
   },
   "outputs": [
    {
     "data": {
      "text/html": [
       "<div>\n",
       "<style scoped>\n",
       "    .dataframe tbody tr th:only-of-type {\n",
       "        vertical-align: middle;\n",
       "    }\n",
       "\n",
       "    .dataframe tbody tr th {\n",
       "        vertical-align: top;\n",
       "    }\n",
       "\n",
       "    .dataframe thead th {\n",
       "        text-align: right;\n",
       "    }\n",
       "</style>\n",
       "<table border=\"1\" class=\"dataframe\">\n",
       "  <thead>\n",
       "    <tr style=\"text-align: right;\">\n",
       "      <th></th>\n",
       "      <th>Dividends</th>\n",
       "      <th>Stock Splits</th>\n",
       "      <th>Capital Gains</th>\n",
       "    </tr>\n",
       "    <tr>\n",
       "      <th>Date</th>\n",
       "      <th></th>\n",
       "      <th></th>\n",
       "      <th></th>\n",
       "    </tr>\n",
       "  </thead>\n",
       "  <tbody>\n",
       "  </tbody>\n",
       "</table>\n",
       "</div>"
      ],
      "text/plain": [
       "Empty DataFrame\n",
       "Columns: [Dividends, Stock Splits, Capital Gains]\n",
       "Index: []"
      ]
     },
     "execution_count": 41,
     "metadata": {},
     "output_type": "execute_result"
    }
   ],
   "source": [
    "# show actions (dividends, splits)\n",
    "ticker.actions"
   ]
  },
  {
   "cell_type": "code",
   "execution_count": 42,
   "metadata": {
    "ExecuteTime": {
     "end_time": "2020-06-16T16:43:19.378823Z",
     "start_time": "2020-06-16T16:43:19.370774Z"
    }
   },
   "outputs": [
    {
     "data": {
      "text/plain": [
       "Series([], Name: Dividends, dtype: float64)"
      ]
     },
     "execution_count": 42,
     "metadata": {},
     "output_type": "execute_result"
    }
   ],
   "source": [
    "ticker.dividends"
   ]
  },
  {
   "cell_type": "code",
   "execution_count": 43,
   "metadata": {
    "ExecuteTime": {
     "end_time": "2020-06-16T16:43:19.389513Z",
     "start_time": "2020-06-16T16:43:19.380921Z"
    }
   },
   "outputs": [
    {
     "data": {
      "text/plain": [
       "Series([], Name: Stock Splits, dtype: float64)"
      ]
     },
     "execution_count": 43,
     "metadata": {},
     "output_type": "execute_result"
    }
   ],
   "source": [
    "ticker.splits"
   ]
  },
  {
   "cell_type": "markdown",
   "metadata": {},
   "source": [
    "### Annual and Quarterly Financial Statement Summary"
   ]
  },
  {
   "cell_type": "code",
   "execution_count": 45,
   "metadata": {
    "ExecuteTime": {
     "end_time": "2020-06-16T16:43:24.146900Z",
     "start_time": "2020-06-16T16:43:24.140344Z"
    }
   },
   "outputs": [
    {
     "data": {
      "text/html": [
       "<div>\n",
       "<style scoped>\n",
       "    .dataframe tbody tr th:only-of-type {\n",
       "        vertical-align: middle;\n",
       "    }\n",
       "\n",
       "    .dataframe tbody tr th {\n",
       "        vertical-align: top;\n",
       "    }\n",
       "\n",
       "    .dataframe thead th {\n",
       "        text-align: right;\n",
       "    }\n",
       "</style>\n",
       "<table border=\"1\" class=\"dataframe\">\n",
       "  <thead>\n",
       "    <tr style=\"text-align: right;\">\n",
       "      <th></th>\n",
       "    </tr>\n",
       "  </thead>\n",
       "  <tbody>\n",
       "  </tbody>\n",
       "</table>\n",
       "</div>"
      ],
      "text/plain": [
       "Empty DataFrame\n",
       "Columns: []\n",
       "Index: []"
      ]
     },
     "execution_count": 45,
     "metadata": {},
     "output_type": "execute_result"
    }
   ],
   "source": [
    "ticker.financials"
   ]
  },
  {
   "cell_type": "code",
   "execution_count": 46,
   "metadata": {
    "ExecuteTime": {
     "end_time": "2020-06-16T16:43:24.317914Z",
     "start_time": "2020-06-16T16:43:24.311299Z"
    }
   },
   "outputs": [
    {
     "data": {
      "text/html": [
       "<div>\n",
       "<style scoped>\n",
       "    .dataframe tbody tr th:only-of-type {\n",
       "        vertical-align: middle;\n",
       "    }\n",
       "\n",
       "    .dataframe tbody tr th {\n",
       "        vertical-align: top;\n",
       "    }\n",
       "\n",
       "    .dataframe thead th {\n",
       "        text-align: right;\n",
       "    }\n",
       "</style>\n",
       "<table border=\"1\" class=\"dataframe\">\n",
       "  <thead>\n",
       "    <tr style=\"text-align: right;\">\n",
       "      <th></th>\n",
       "    </tr>\n",
       "  </thead>\n",
       "  <tbody>\n",
       "  </tbody>\n",
       "</table>\n",
       "</div>"
      ],
      "text/plain": [
       "Empty DataFrame\n",
       "Columns: []\n",
       "Index: []"
      ]
     },
     "execution_count": 46,
     "metadata": {},
     "output_type": "execute_result"
    }
   ],
   "source": [
    "ticker.quarterly_financials"
   ]
  },
  {
   "cell_type": "markdown",
   "metadata": {},
   "source": [
    "### Annual and Quarterly Balance Sheet"
   ]
  },
  {
   "cell_type": "code",
   "execution_count": 48,
   "metadata": {
    "ExecuteTime": {
     "end_time": "2020-06-16T16:43:24.720614Z",
     "start_time": "2020-06-16T16:43:24.710805Z"
    }
   },
   "outputs": [
    {
     "data": {
      "text/html": [
       "<div>\n",
       "<style scoped>\n",
       "    .dataframe tbody tr th:only-of-type {\n",
       "        vertical-align: middle;\n",
       "    }\n",
       "\n",
       "    .dataframe tbody tr th {\n",
       "        vertical-align: top;\n",
       "    }\n",
       "\n",
       "    .dataframe thead th {\n",
       "        text-align: right;\n",
       "    }\n",
       "</style>\n",
       "<table border=\"1\" class=\"dataframe\">\n",
       "  <thead>\n",
       "    <tr style=\"text-align: right;\">\n",
       "      <th></th>\n",
       "    </tr>\n",
       "  </thead>\n",
       "  <tbody>\n",
       "  </tbody>\n",
       "</table>\n",
       "</div>"
      ],
      "text/plain": [
       "Empty DataFrame\n",
       "Columns: []\n",
       "Index: []"
      ]
     },
     "execution_count": 48,
     "metadata": {},
     "output_type": "execute_result"
    }
   ],
   "source": [
    "ticker.balance_sheet"
   ]
  },
  {
   "cell_type": "code",
   "execution_count": 49,
   "metadata": {
    "ExecuteTime": {
     "end_time": "2020-06-16T16:43:24.824566Z",
     "start_time": "2020-06-16T16:43:24.817598Z"
    }
   },
   "outputs": [
    {
     "data": {
      "text/html": [
       "<div>\n",
       "<style scoped>\n",
       "    .dataframe tbody tr th:only-of-type {\n",
       "        vertical-align: middle;\n",
       "    }\n",
       "\n",
       "    .dataframe tbody tr th {\n",
       "        vertical-align: top;\n",
       "    }\n",
       "\n",
       "    .dataframe thead th {\n",
       "        text-align: right;\n",
       "    }\n",
       "</style>\n",
       "<table border=\"1\" class=\"dataframe\">\n",
       "  <thead>\n",
       "    <tr style=\"text-align: right;\">\n",
       "      <th></th>\n",
       "    </tr>\n",
       "  </thead>\n",
       "  <tbody>\n",
       "  </tbody>\n",
       "</table>\n",
       "</div>"
      ],
      "text/plain": [
       "Empty DataFrame\n",
       "Columns: []\n",
       "Index: []"
      ]
     },
     "execution_count": 49,
     "metadata": {},
     "output_type": "execute_result"
    }
   ],
   "source": [
    "ticker.quarterly_balance_sheet"
   ]
  },
  {
   "cell_type": "markdown",
   "metadata": {},
   "source": [
    "### Annual and Quarterly Cashflow Statement"
   ]
  },
  {
   "cell_type": "code",
   "execution_count": 51,
   "metadata": {
    "ExecuteTime": {
     "end_time": "2020-06-16T16:43:25.025226Z",
     "start_time": "2020-06-16T16:43:25.018976Z"
    }
   },
   "outputs": [
    {
     "data": {
      "text/html": [
       "<div>\n",
       "<style scoped>\n",
       "    .dataframe tbody tr th:only-of-type {\n",
       "        vertical-align: middle;\n",
       "    }\n",
       "\n",
       "    .dataframe tbody tr th {\n",
       "        vertical-align: top;\n",
       "    }\n",
       "\n",
       "    .dataframe thead th {\n",
       "        text-align: right;\n",
       "    }\n",
       "</style>\n",
       "<table border=\"1\" class=\"dataframe\">\n",
       "  <thead>\n",
       "    <tr style=\"text-align: right;\">\n",
       "      <th></th>\n",
       "    </tr>\n",
       "  </thead>\n",
       "  <tbody>\n",
       "  </tbody>\n",
       "</table>\n",
       "</div>"
      ],
      "text/plain": [
       "Empty DataFrame\n",
       "Columns: []\n",
       "Index: []"
      ]
     },
     "execution_count": 51,
     "metadata": {},
     "output_type": "execute_result"
    }
   ],
   "source": [
    "ticker.cashflow"
   ]
  },
  {
   "cell_type": "code",
   "execution_count": 52,
   "metadata": {
    "ExecuteTime": {
     "end_time": "2020-06-16T16:43:25.239013Z",
     "start_time": "2020-06-16T16:43:25.228781Z"
    }
   },
   "outputs": [
    {
     "data": {
      "text/html": [
       "<div>\n",
       "<style scoped>\n",
       "    .dataframe tbody tr th:only-of-type {\n",
       "        vertical-align: middle;\n",
       "    }\n",
       "\n",
       "    .dataframe tbody tr th {\n",
       "        vertical-align: top;\n",
       "    }\n",
       "\n",
       "    .dataframe thead th {\n",
       "        text-align: right;\n",
       "    }\n",
       "</style>\n",
       "<table border=\"1\" class=\"dataframe\">\n",
       "  <thead>\n",
       "    <tr style=\"text-align: right;\">\n",
       "      <th></th>\n",
       "    </tr>\n",
       "  </thead>\n",
       "  <tbody>\n",
       "  </tbody>\n",
       "</table>\n",
       "</div>"
      ],
      "text/plain": [
       "Empty DataFrame\n",
       "Columns: []\n",
       "Index: []"
      ]
     },
     "execution_count": 52,
     "metadata": {},
     "output_type": "execute_result"
    }
   ],
   "source": [
    "ticker.quarterly_cashflow"
   ]
  },
  {
   "cell_type": "code",
   "execution_count": 53,
   "metadata": {
    "ExecuteTime": {
     "end_time": "2020-06-16T16:43:25.456288Z",
     "start_time": "2020-06-16T16:43:25.446247Z"
    }
   },
   "outputs": [],
   "source": [
    "ticker.earnings"
   ]
  },
  {
   "cell_type": "code",
   "execution_count": 54,
   "metadata": {
    "ExecuteTime": {
     "end_time": "2020-06-16T16:43:26.325697Z",
     "start_time": "2020-06-16T16:43:26.315369Z"
    }
   },
   "outputs": [],
   "source": [
    "ticker.quarterly_earnings"
   ]
  },
  {
   "cell_type": "markdown",
   "metadata": {},
   "source": [
    "### Sustainability: Environmental, Social and Governance (ESG)"
   ]
  },
  {
   "cell_type": "code",
   "execution_count": 56,
   "metadata": {
    "ExecuteTime": {
     "end_time": "2020-06-16T16:43:28.774348Z",
     "start_time": "2020-06-16T16:43:28.762044Z"
    }
   },
   "outputs": [
    {
     "name": "stderr",
     "output_type": "stream",
     "text": [
      "HTTP Error 404: \n"
     ]
    },
    {
     "data": {
      "text/html": [
       "<div>\n",
       "<style scoped>\n",
       "    .dataframe tbody tr th:only-of-type {\n",
       "        vertical-align: middle;\n",
       "    }\n",
       "\n",
       "    .dataframe tbody tr th {\n",
       "        vertical-align: top;\n",
       "    }\n",
       "\n",
       "    .dataframe thead th {\n",
       "        text-align: right;\n",
       "    }\n",
       "</style>\n",
       "<table border=\"1\" class=\"dataframe\">\n",
       "  <thead>\n",
       "    <tr style=\"text-align: right;\">\n",
       "      <th></th>\n",
       "    </tr>\n",
       "  </thead>\n",
       "  <tbody>\n",
       "  </tbody>\n",
       "</table>\n",
       "</div>"
      ],
      "text/plain": [
       "Empty DataFrame\n",
       "Columns: []\n",
       "Index: []"
      ]
     },
     "execution_count": 56,
     "metadata": {},
     "output_type": "execute_result"
    }
   ],
   "source": [
    "ticker.sustainability"
   ]
  },
  {
   "cell_type": "markdown",
   "metadata": {},
   "source": [
    "### Analyst Recommendations"
   ]
  },
  {
   "cell_type": "code",
   "execution_count": 58,
   "metadata": {
    "ExecuteTime": {
     "end_time": "2020-06-16T16:43:33.592409Z",
     "start_time": "2020-06-16T16:43:33.581270Z"
    }
   },
   "outputs": [
    {
     "name": "stderr",
     "output_type": "stream",
     "text": [
      "HTTP Error 404: \n"
     ]
    },
    {
     "name": "stdout",
     "output_type": "stream",
     "text": [
      "<class 'pandas.core.frame.DataFrame'>\n",
      "RangeIndex: 0 entries\n",
      "Empty DataFrame\n"
     ]
    }
   ],
   "source": [
    "ticker.recommendations.info()"
   ]
  },
  {
   "cell_type": "code",
   "execution_count": 59,
   "metadata": {
    "ExecuteTime": {
     "end_time": "2020-06-16T16:43:35.425889Z",
     "start_time": "2020-06-16T16:43:35.410008Z"
    }
   },
   "outputs": [
    {
     "data": {
      "text/html": [
       "<div>\n",
       "<style scoped>\n",
       "    .dataframe tbody tr th:only-of-type {\n",
       "        vertical-align: middle;\n",
       "    }\n",
       "\n",
       "    .dataframe tbody tr th {\n",
       "        vertical-align: top;\n",
       "    }\n",
       "\n",
       "    .dataframe thead th {\n",
       "        text-align: right;\n",
       "    }\n",
       "</style>\n",
       "<table border=\"1\" class=\"dataframe\">\n",
       "  <thead>\n",
       "    <tr style=\"text-align: right;\">\n",
       "      <th></th>\n",
       "    </tr>\n",
       "  </thead>\n",
       "  <tbody>\n",
       "  </tbody>\n",
       "</table>\n",
       "</div>"
      ],
      "text/plain": [
       "Empty DataFrame\n",
       "Columns: []\n",
       "Index: []"
      ]
     },
     "execution_count": 59,
     "metadata": {},
     "output_type": "execute_result"
    }
   ],
   "source": [
    "ticker.recommendations.tail(10)"
   ]
  },
  {
   "cell_type": "markdown",
   "metadata": {},
   "source": [
    "### Upcoming Events"
   ]
  },
  {
   "cell_type": "code",
   "execution_count": 61,
   "metadata": {
    "ExecuteTime": {
     "end_time": "2020-06-16T16:43:38.209828Z",
     "start_time": "2020-06-16T16:43:38.199536Z"
    }
   },
   "outputs": [
    {
     "data": {
      "text/plain": [
       "{'Dividend Date': datetime.date(2025, 5, 15),\n",
       " 'Ex-Dividend Date': datetime.date(2025, 5, 12),\n",
       " 'Earnings Date': [datetime.date(2025, 8, 1)],\n",
       " 'Earnings High': 1.51,\n",
       " 'Earnings Low': 1.34,\n",
       " 'Earnings Average': 1.42415,\n",
       " 'Revenue High': 90104000000,\n",
       " 'Revenue Low': 86919000000,\n",
       " 'Revenue Average': 88638880990}"
      ]
     },
     "execution_count": 61,
     "metadata": {},
     "output_type": "execute_result"
    }
   ],
   "source": [
    "import yfinance as yf\n",
    "ticker = yf.Ticker(\"AAPL\")\n",
    "ticker.calendar\n"
   ]
  },
  {
   "cell_type": "markdown",
   "metadata": {},
   "source": [
    "### Option Expiration Dates"
   ]
  },
  {
   "cell_type": "code",
   "execution_count": 63,
   "metadata": {
    "ExecuteTime": {
     "end_time": "2020-06-16T16:43:41.571501Z",
     "start_time": "2020-06-16T16:43:41.470643Z"
    }
   },
   "outputs": [
    {
     "data": {
      "text/plain": [
       "('2025-07-18',\n",
       " '2025-07-25',\n",
       " '2025-08-01',\n",
       " '2025-08-08',\n",
       " '2025-08-15',\n",
       " '2025-08-22',\n",
       " '2025-08-29',\n",
       " '2025-09-19',\n",
       " '2025-10-17',\n",
       " '2025-11-21',\n",
       " '2025-12-19',\n",
       " '2026-01-16',\n",
       " '2026-02-20',\n",
       " '2026-03-20',\n",
       " '2026-05-15',\n",
       " '2026-06-18',\n",
       " '2026-09-18',\n",
       " '2026-12-18',\n",
       " '2027-01-15',\n",
       " '2027-06-17',\n",
       " '2027-12-17')"
      ]
     },
     "execution_count": 63,
     "metadata": {},
     "output_type": "execute_result"
    }
   ],
   "source": [
    "ticker.options"
   ]
  },
  {
   "cell_type": "code",
   "execution_count": 64,
   "metadata": {
    "ExecuteTime": {
     "end_time": "2020-06-16T16:43:59.679615Z",
     "start_time": "2020-06-16T16:43:59.677178Z"
    }
   },
   "outputs": [],
   "source": [
    "expiration = ticker.options[0]"
   ]
  },
  {
   "cell_type": "code",
   "execution_count": 65,
   "metadata": {
    "ExecuteTime": {
     "end_time": "2020-06-16T16:44:00.239200Z",
     "start_time": "2020-06-16T16:44:00.105014Z"
    }
   },
   "outputs": [],
   "source": [
    "options = ticker.option_chain(expiration)"
   ]
  },
  {
   "cell_type": "code",
   "execution_count": 66,
   "metadata": {
    "ExecuteTime": {
     "end_time": "2020-06-16T16:44:00.685877Z",
     "start_time": "2020-06-16T16:44:00.672070Z"
    }
   },
   "outputs": [
    {
     "name": "stdout",
     "output_type": "stream",
     "text": [
      "<class 'pandas.core.frame.DataFrame'>\n",
      "RangeIndex: 70 entries, 0 to 69\n",
      "Data columns (total 14 columns):\n",
      " #   Column             Non-Null Count  Dtype              \n",
      "---  ------             --------------  -----              \n",
      " 0   contractSymbol     70 non-null     object             \n",
      " 1   lastTradeDate      70 non-null     datetime64[ns, UTC]\n",
      " 2   strike             70 non-null     float64            \n",
      " 3   lastPrice          70 non-null     float64            \n",
      " 4   bid                70 non-null     float64            \n",
      " 5   ask                70 non-null     float64            \n",
      " 6   change             70 non-null     float64            \n",
      " 7   percentChange      70 non-null     float64            \n",
      " 8   volume             69 non-null     float64            \n",
      " 9   openInterest       70 non-null     int64              \n",
      " 10  impliedVolatility  70 non-null     float64            \n",
      " 11  inTheMoney         70 non-null     bool               \n",
      " 12  contractSize       70 non-null     object             \n",
      " 13  currency           70 non-null     object             \n",
      "dtypes: bool(1), datetime64[ns, UTC](1), float64(8), int64(1), object(3)\n",
      "memory usage: 7.3+ KB\n"
     ]
    }
   ],
   "source": [
    "options.calls.info()"
   ]
  },
  {
   "cell_type": "code",
   "execution_count": 67,
   "metadata": {
    "ExecuteTime": {
     "end_time": "2020-06-16T16:44:06.108615Z",
     "start_time": "2020-06-16T16:44:06.081700Z"
    }
   },
   "outputs": [
    {
     "data": {
      "text/html": [
       "<div>\n",
       "<style scoped>\n",
       "    .dataframe tbody tr th:only-of-type {\n",
       "        vertical-align: middle;\n",
       "    }\n",
       "\n",
       "    .dataframe tbody tr th {\n",
       "        vertical-align: top;\n",
       "    }\n",
       "\n",
       "    .dataframe thead th {\n",
       "        text-align: right;\n",
       "    }\n",
       "</style>\n",
       "<table border=\"1\" class=\"dataframe\">\n",
       "  <thead>\n",
       "    <tr style=\"text-align: right;\">\n",
       "      <th></th>\n",
       "      <th>contractSymbol</th>\n",
       "      <th>lastTradeDate</th>\n",
       "      <th>strike</th>\n",
       "      <th>lastPrice</th>\n",
       "      <th>bid</th>\n",
       "      <th>ask</th>\n",
       "      <th>change</th>\n",
       "      <th>percentChange</th>\n",
       "      <th>volume</th>\n",
       "      <th>openInterest</th>\n",
       "      <th>impliedVolatility</th>\n",
       "      <th>inTheMoney</th>\n",
       "      <th>contractSize</th>\n",
       "      <th>currency</th>\n",
       "    </tr>\n",
       "  </thead>\n",
       "  <tbody>\n",
       "    <tr>\n",
       "      <th>0</th>\n",
       "      <td>AAPL250718C00090000</td>\n",
       "      <td>2025-07-16 15:29:12+00:00</td>\n",
       "      <td>90.0</td>\n",
       "      <td>120.00</td>\n",
       "      <td>0.0</td>\n",
       "      <td>0.0</td>\n",
       "      <td>0.0</td>\n",
       "      <td>0.0</td>\n",
       "      <td>12.0</td>\n",
       "      <td>0</td>\n",
       "      <td>0.00001</td>\n",
       "      <td>True</td>\n",
       "      <td>REGULAR</td>\n",
       "      <td>USD</td>\n",
       "    </tr>\n",
       "    <tr>\n",
       "      <th>1</th>\n",
       "      <td>AAPL250718C00095000</td>\n",
       "      <td>2025-07-11 15:38:33+00:00</td>\n",
       "      <td>95.0</td>\n",
       "      <td>115.75</td>\n",
       "      <td>0.0</td>\n",
       "      <td>0.0</td>\n",
       "      <td>0.0</td>\n",
       "      <td>0.0</td>\n",
       "      <td>2.0</td>\n",
       "      <td>0</td>\n",
       "      <td>0.00001</td>\n",
       "      <td>True</td>\n",
       "      <td>REGULAR</td>\n",
       "      <td>USD</td>\n",
       "    </tr>\n",
       "    <tr>\n",
       "      <th>2</th>\n",
       "      <td>AAPL250718C00100000</td>\n",
       "      <td>2025-07-10 19:44:53+00:00</td>\n",
       "      <td>100.0</td>\n",
       "      <td>113.00</td>\n",
       "      <td>0.0</td>\n",
       "      <td>0.0</td>\n",
       "      <td>0.0</td>\n",
       "      <td>0.0</td>\n",
       "      <td>4.0</td>\n",
       "      <td>0</td>\n",
       "      <td>0.00001</td>\n",
       "      <td>True</td>\n",
       "      <td>REGULAR</td>\n",
       "      <td>USD</td>\n",
       "    </tr>\n",
       "    <tr>\n",
       "      <th>3</th>\n",
       "      <td>AAPL250718C00105000</td>\n",
       "      <td>2025-07-14 18:23:08+00:00</td>\n",
       "      <td>105.0</td>\n",
       "      <td>104.14</td>\n",
       "      <td>0.0</td>\n",
       "      <td>0.0</td>\n",
       "      <td>0.0</td>\n",
       "      <td>0.0</td>\n",
       "      <td>2.0</td>\n",
       "      <td>0</td>\n",
       "      <td>0.00001</td>\n",
       "      <td>True</td>\n",
       "      <td>REGULAR</td>\n",
       "      <td>USD</td>\n",
       "    </tr>\n",
       "    <tr>\n",
       "      <th>4</th>\n",
       "      <td>AAPL250718C00110000</td>\n",
       "      <td>2025-07-16 18:02:16+00:00</td>\n",
       "      <td>110.0</td>\n",
       "      <td>100.31</td>\n",
       "      <td>0.0</td>\n",
       "      <td>0.0</td>\n",
       "      <td>0.0</td>\n",
       "      <td>0.0</td>\n",
       "      <td>20.0</td>\n",
       "      <td>0</td>\n",
       "      <td>0.00001</td>\n",
       "      <td>True</td>\n",
       "      <td>REGULAR</td>\n",
       "      <td>USD</td>\n",
       "    </tr>\n",
       "  </tbody>\n",
       "</table>\n",
       "</div>"
      ],
      "text/plain": [
       "        contractSymbol             lastTradeDate  strike  lastPrice  bid  ask  \\\n",
       "0  AAPL250718C00090000 2025-07-16 15:29:12+00:00    90.0     120.00  0.0  0.0   \n",
       "1  AAPL250718C00095000 2025-07-11 15:38:33+00:00    95.0     115.75  0.0  0.0   \n",
       "2  AAPL250718C00100000 2025-07-10 19:44:53+00:00   100.0     113.00  0.0  0.0   \n",
       "3  AAPL250718C00105000 2025-07-14 18:23:08+00:00   105.0     104.14  0.0  0.0   \n",
       "4  AAPL250718C00110000 2025-07-16 18:02:16+00:00   110.0     100.31  0.0  0.0   \n",
       "\n",
       "   change  percentChange  volume  openInterest  impliedVolatility  inTheMoney  \\\n",
       "0     0.0            0.0    12.0             0            0.00001        True   \n",
       "1     0.0            0.0     2.0             0            0.00001        True   \n",
       "2     0.0            0.0     4.0             0            0.00001        True   \n",
       "3     0.0            0.0     2.0             0            0.00001        True   \n",
       "4     0.0            0.0    20.0             0            0.00001        True   \n",
       "\n",
       "  contractSize currency  \n",
       "0      REGULAR      USD  \n",
       "1      REGULAR      USD  \n",
       "2      REGULAR      USD  \n",
       "3      REGULAR      USD  \n",
       "4      REGULAR      USD  "
      ]
     },
     "execution_count": 67,
     "metadata": {},
     "output_type": "execute_result"
    }
   ],
   "source": [
    "options.calls.head()"
   ]
  },
  {
   "cell_type": "code",
   "execution_count": 68,
   "metadata": {
    "ExecuteTime": {
     "end_time": "2020-06-16T16:44:07.169578Z",
     "start_time": "2020-06-16T16:44:07.147867Z"
    }
   },
   "outputs": [
    {
     "name": "stdout",
     "output_type": "stream",
     "text": [
      "<class 'pandas.core.frame.DataFrame'>\n",
      "RangeIndex: 62 entries, 0 to 61\n",
      "Data columns (total 14 columns):\n",
      " #   Column             Non-Null Count  Dtype              \n",
      "---  ------             --------------  -----              \n",
      " 0   contractSymbol     62 non-null     object             \n",
      " 1   lastTradeDate      62 non-null     datetime64[ns, UTC]\n",
      " 2   strike             62 non-null     float64            \n",
      " 3   lastPrice          62 non-null     float64            \n",
      " 4   bid                62 non-null     float64            \n",
      " 5   ask                62 non-null     float64            \n",
      " 6   change             62 non-null     float64            \n",
      " 7   percentChange      62 non-null     float64            \n",
      " 8   volume             60 non-null     float64            \n",
      " 9   openInterest       62 non-null     int64              \n",
      " 10  impliedVolatility  62 non-null     float64            \n",
      " 11  inTheMoney         62 non-null     bool               \n",
      " 12  contractSize       62 non-null     object             \n",
      " 13  currency           62 non-null     object             \n",
      "dtypes: bool(1), datetime64[ns, UTC](1), float64(8), int64(1), object(3)\n",
      "memory usage: 6.5+ KB\n"
     ]
    }
   ],
   "source": [
    "options.puts.info()"
   ]
  },
  {
   "cell_type": "markdown",
   "metadata": {},
   "source": [
    "## Data Download with proxy server"
   ]
  },
  {
   "cell_type": "markdown",
   "metadata": {},
   "source": [
    "You can use a proxy server to avoid having your IP blacklisted as illustrated below (but need an actual PROXY_SERVER)."
   ]
  },
  {
   "cell_type": "code",
   "execution_count": 71,
   "metadata": {
    "ExecuteTime": {
     "end_time": "2020-06-16T16:40:43.509453Z",
     "start_time": "2020-06-16T16:40:43.504575Z"
    }
   },
   "outputs": [],
   "source": [
    "PROXY_SERVER = 'PROXY_SERVER'"
   ]
  },
  {
   "cell_type": "markdown",
   "metadata": {},
   "source": [
    "The following will only work with proper PROXY_SERVER..."
   ]
  },
  {
   "cell_type": "code",
   "execution_count": 73,
   "metadata": {
    "ExecuteTime": {
     "end_time": "2020-06-16T16:40:43.519559Z",
     "start_time": "2020-06-16T16:40:43.514966Z"
    }
   },
   "outputs": [],
   "source": [
    "# msft = yf.Ticker(\"MSFT\")\n",
    "\n",
    "# msft.history(proxy=PROXY_SERVER)\n",
    "# msft.get_actions(proxy=PROXY_SERVER)\n",
    "# msft.get_dividends(proxy=PROXY_SERVER)\n",
    "# msft.get_splits(proxy=PROXY_SERVER)\n",
    "# msft.get_balance_sheet(proxy=PROXY_SERVER)\n",
    "# msft.get_cashflow(proxy=PROXY_SERVER)\n",
    "# msgt.option_chain(proxy=PROXY_SERVER)"
   ]
  },
  {
   "cell_type": "markdown",
   "metadata": {},
   "source": [
    "## Downloading multiple symbols"
   ]
  },
  {
   "cell_type": "code",
   "execution_count": 75,
   "metadata": {
    "ExecuteTime": {
     "end_time": "2020-06-16T16:44:10.965260Z",
     "start_time": "2020-06-16T16:44:10.895176Z"
    }
   },
   "outputs": [],
   "source": [
    "tickers = yf.Tickers('msft aapl goog')"
   ]
  },
  {
   "cell_type": "code",
   "execution_count": 76,
   "metadata": {
    "ExecuteTime": {
     "end_time": "2020-06-16T16:44:11.062874Z",
     "start_time": "2020-06-16T16:44:11.056379Z"
    }
   },
   "outputs": [
    {
     "data": {
      "text/plain": [
       "yfinance.Tickers object <MSFT,AAPL,GOOG>"
      ]
     },
     "execution_count": 76,
     "metadata": {},
     "output_type": "execute_result"
    }
   ],
   "source": [
    "tickers"
   ]
  },
  {
   "cell_type": "code",
   "execution_count": 77,
   "metadata": {
    "ExecuteTime": {
     "end_time": "2020-06-16T16:44:11.953471Z",
     "start_time": "2020-06-16T16:44:11.210166Z"
    }
   },
   "outputs": [
    {
     "data": {
      "text/plain": [
       "address1                One Microsoft Way\n",
       "city                              Redmond\n",
       "state                                  WA\n",
       "zip                            98052-6399\n",
       "country                     United States\n",
       "phone                        425 882 8080\n",
       "website         https://www.microsoft.com\n",
       "industry        Software - Infrastructure\n",
       "industryKey       software-infrastructure\n",
       "industryDisp    Software - Infrastructure\n",
       "dtype: object"
      ]
     },
     "execution_count": 77,
     "metadata": {},
     "output_type": "execute_result"
    }
   ],
   "source": [
    "import yfinance as yf\n",
    "import pandas as pd\n",
    "\n",
    "tickers = yf.Tickers([\"AAPL\", \"MSFT\"])\n",
    "\n",
    "# Correct way to access Microsoft's info\n",
    "msft_info = tickers.tickers[\"MSFT\"].info\n",
    "\n",
    "# Convert to a Series\n",
    "msft_series = pd.Series(msft_info)\n",
    "\n",
    "# Display\n",
    "msft_series.head(10)  # show first 10 items\n"
   ]
  },
  {
   "cell_type": "code",
   "execution_count": 78,
   "metadata": {
    "ExecuteTime": {
     "end_time": "2020-06-16T16:44:12.174151Z",
     "start_time": "2020-06-16T16:44:11.958148Z"
    }
   },
   "outputs": [
    {
     "data": {
      "text/html": [
       "<div>\n",
       "<style scoped>\n",
       "    .dataframe tbody tr th:only-of-type {\n",
       "        vertical-align: middle;\n",
       "    }\n",
       "\n",
       "    .dataframe tbody tr th {\n",
       "        vertical-align: top;\n",
       "    }\n",
       "\n",
       "    .dataframe thead th {\n",
       "        text-align: right;\n",
       "    }\n",
       "</style>\n",
       "<table border=\"1\" class=\"dataframe\">\n",
       "  <thead>\n",
       "    <tr style=\"text-align: right;\">\n",
       "      <th></th>\n",
       "      <th>Open</th>\n",
       "      <th>High</th>\n",
       "      <th>Low</th>\n",
       "      <th>Close</th>\n",
       "      <th>Volume</th>\n",
       "      <th>Dividends</th>\n",
       "      <th>Stock Splits</th>\n",
       "    </tr>\n",
       "    <tr>\n",
       "      <th>Date</th>\n",
       "      <th></th>\n",
       "      <th></th>\n",
       "      <th></th>\n",
       "      <th></th>\n",
       "      <th></th>\n",
       "      <th></th>\n",
       "      <th></th>\n",
       "    </tr>\n",
       "  </thead>\n",
       "  <tbody>\n",
       "    <tr>\n",
       "      <th>2025-06-17 00:00:00-04:00</th>\n",
       "      <td>197.199997</td>\n",
       "      <td>198.389999</td>\n",
       "      <td>195.210007</td>\n",
       "      <td>195.639999</td>\n",
       "      <td>38856200</td>\n",
       "      <td>0.0</td>\n",
       "      <td>0.0</td>\n",
       "    </tr>\n",
       "    <tr>\n",
       "      <th>2025-06-18 00:00:00-04:00</th>\n",
       "      <td>195.940002</td>\n",
       "      <td>197.570007</td>\n",
       "      <td>195.070007</td>\n",
       "      <td>196.580002</td>\n",
       "      <td>45394700</td>\n",
       "      <td>0.0</td>\n",
       "      <td>0.0</td>\n",
       "    </tr>\n",
       "    <tr>\n",
       "      <th>2025-06-20 00:00:00-04:00</th>\n",
       "      <td>198.240005</td>\n",
       "      <td>201.699997</td>\n",
       "      <td>196.860001</td>\n",
       "      <td>201.000000</td>\n",
       "      <td>96813500</td>\n",
       "      <td>0.0</td>\n",
       "      <td>0.0</td>\n",
       "    </tr>\n",
       "    <tr>\n",
       "      <th>2025-06-23 00:00:00-04:00</th>\n",
       "      <td>201.630005</td>\n",
       "      <td>202.300003</td>\n",
       "      <td>198.960007</td>\n",
       "      <td>201.500000</td>\n",
       "      <td>55814300</td>\n",
       "      <td>0.0</td>\n",
       "      <td>0.0</td>\n",
       "    </tr>\n",
       "    <tr>\n",
       "      <th>2025-06-24 00:00:00-04:00</th>\n",
       "      <td>202.589996</td>\n",
       "      <td>203.440002</td>\n",
       "      <td>200.199997</td>\n",
       "      <td>200.300003</td>\n",
       "      <td>54064000</td>\n",
       "      <td>0.0</td>\n",
       "      <td>0.0</td>\n",
       "    </tr>\n",
       "    <tr>\n",
       "      <th>2025-06-25 00:00:00-04:00</th>\n",
       "      <td>201.449997</td>\n",
       "      <td>203.669998</td>\n",
       "      <td>200.619995</td>\n",
       "      <td>201.559998</td>\n",
       "      <td>39525700</td>\n",
       "      <td>0.0</td>\n",
       "      <td>0.0</td>\n",
       "    </tr>\n",
       "    <tr>\n",
       "      <th>2025-06-26 00:00:00-04:00</th>\n",
       "      <td>201.429993</td>\n",
       "      <td>202.639999</td>\n",
       "      <td>199.460007</td>\n",
       "      <td>201.000000</td>\n",
       "      <td>50799100</td>\n",
       "      <td>0.0</td>\n",
       "      <td>0.0</td>\n",
       "    </tr>\n",
       "    <tr>\n",
       "      <th>2025-06-27 00:00:00-04:00</th>\n",
       "      <td>201.889999</td>\n",
       "      <td>203.220001</td>\n",
       "      <td>200.000000</td>\n",
       "      <td>201.080002</td>\n",
       "      <td>73188600</td>\n",
       "      <td>0.0</td>\n",
       "      <td>0.0</td>\n",
       "    </tr>\n",
       "    <tr>\n",
       "      <th>2025-06-30 00:00:00-04:00</th>\n",
       "      <td>202.009995</td>\n",
       "      <td>207.389999</td>\n",
       "      <td>199.259995</td>\n",
       "      <td>205.169998</td>\n",
       "      <td>91912800</td>\n",
       "      <td>0.0</td>\n",
       "      <td>0.0</td>\n",
       "    </tr>\n",
       "    <tr>\n",
       "      <th>2025-07-01 00:00:00-04:00</th>\n",
       "      <td>206.669998</td>\n",
       "      <td>210.190002</td>\n",
       "      <td>206.139999</td>\n",
       "      <td>207.820007</td>\n",
       "      <td>78788900</td>\n",
       "      <td>0.0</td>\n",
       "      <td>0.0</td>\n",
       "    </tr>\n",
       "    <tr>\n",
       "      <th>2025-07-02 00:00:00-04:00</th>\n",
       "      <td>208.910004</td>\n",
       "      <td>213.339996</td>\n",
       "      <td>208.139999</td>\n",
       "      <td>212.440002</td>\n",
       "      <td>67941800</td>\n",
       "      <td>0.0</td>\n",
       "      <td>0.0</td>\n",
       "    </tr>\n",
       "    <tr>\n",
       "      <th>2025-07-03 00:00:00-04:00</th>\n",
       "      <td>212.149994</td>\n",
       "      <td>214.649994</td>\n",
       "      <td>211.809998</td>\n",
       "      <td>213.550003</td>\n",
       "      <td>34955800</td>\n",
       "      <td>0.0</td>\n",
       "      <td>0.0</td>\n",
       "    </tr>\n",
       "    <tr>\n",
       "      <th>2025-07-07 00:00:00-04:00</th>\n",
       "      <td>212.679993</td>\n",
       "      <td>216.229996</td>\n",
       "      <td>208.800003</td>\n",
       "      <td>209.949997</td>\n",
       "      <td>50229000</td>\n",
       "      <td>0.0</td>\n",
       "      <td>0.0</td>\n",
       "    </tr>\n",
       "    <tr>\n",
       "      <th>2025-07-08 00:00:00-04:00</th>\n",
       "      <td>210.100006</td>\n",
       "      <td>211.429993</td>\n",
       "      <td>208.449997</td>\n",
       "      <td>210.009995</td>\n",
       "      <td>42848900</td>\n",
       "      <td>0.0</td>\n",
       "      <td>0.0</td>\n",
       "    </tr>\n",
       "    <tr>\n",
       "      <th>2025-07-09 00:00:00-04:00</th>\n",
       "      <td>209.529999</td>\n",
       "      <td>211.330002</td>\n",
       "      <td>207.220001</td>\n",
       "      <td>211.139999</td>\n",
       "      <td>48749400</td>\n",
       "      <td>0.0</td>\n",
       "      <td>0.0</td>\n",
       "    </tr>\n",
       "    <tr>\n",
       "      <th>2025-07-10 00:00:00-04:00</th>\n",
       "      <td>210.509995</td>\n",
       "      <td>213.479996</td>\n",
       "      <td>210.029999</td>\n",
       "      <td>212.410004</td>\n",
       "      <td>44443600</td>\n",
       "      <td>0.0</td>\n",
       "      <td>0.0</td>\n",
       "    </tr>\n",
       "    <tr>\n",
       "      <th>2025-07-11 00:00:00-04:00</th>\n",
       "      <td>210.570007</td>\n",
       "      <td>212.130005</td>\n",
       "      <td>209.860001</td>\n",
       "      <td>211.160004</td>\n",
       "      <td>39765800</td>\n",
       "      <td>0.0</td>\n",
       "      <td>0.0</td>\n",
       "    </tr>\n",
       "    <tr>\n",
       "      <th>2025-07-14 00:00:00-04:00</th>\n",
       "      <td>209.929993</td>\n",
       "      <td>210.910004</td>\n",
       "      <td>207.539993</td>\n",
       "      <td>208.619995</td>\n",
       "      <td>38840100</td>\n",
       "      <td>0.0</td>\n",
       "      <td>0.0</td>\n",
       "    </tr>\n",
       "    <tr>\n",
       "      <th>2025-07-15 00:00:00-04:00</th>\n",
       "      <td>209.220001</td>\n",
       "      <td>211.889999</td>\n",
       "      <td>208.919998</td>\n",
       "      <td>209.110001</td>\n",
       "      <td>42296300</td>\n",
       "      <td>0.0</td>\n",
       "      <td>0.0</td>\n",
       "    </tr>\n",
       "    <tr>\n",
       "      <th>2025-07-16 00:00:00-04:00</th>\n",
       "      <td>210.300003</td>\n",
       "      <td>212.399994</td>\n",
       "      <td>208.639999</td>\n",
       "      <td>210.160004</td>\n",
       "      <td>47429600</td>\n",
       "      <td>0.0</td>\n",
       "      <td>0.0</td>\n",
       "    </tr>\n",
       "  </tbody>\n",
       "</table>\n",
       "</div>"
      ],
      "text/plain": [
       "                                 Open        High         Low       Close  \\\n",
       "Date                                                                        \n",
       "2025-06-17 00:00:00-04:00  197.199997  198.389999  195.210007  195.639999   \n",
       "2025-06-18 00:00:00-04:00  195.940002  197.570007  195.070007  196.580002   \n",
       "2025-06-20 00:00:00-04:00  198.240005  201.699997  196.860001  201.000000   \n",
       "2025-06-23 00:00:00-04:00  201.630005  202.300003  198.960007  201.500000   \n",
       "2025-06-24 00:00:00-04:00  202.589996  203.440002  200.199997  200.300003   \n",
       "2025-06-25 00:00:00-04:00  201.449997  203.669998  200.619995  201.559998   \n",
       "2025-06-26 00:00:00-04:00  201.429993  202.639999  199.460007  201.000000   \n",
       "2025-06-27 00:00:00-04:00  201.889999  203.220001  200.000000  201.080002   \n",
       "2025-06-30 00:00:00-04:00  202.009995  207.389999  199.259995  205.169998   \n",
       "2025-07-01 00:00:00-04:00  206.669998  210.190002  206.139999  207.820007   \n",
       "2025-07-02 00:00:00-04:00  208.910004  213.339996  208.139999  212.440002   \n",
       "2025-07-03 00:00:00-04:00  212.149994  214.649994  211.809998  213.550003   \n",
       "2025-07-07 00:00:00-04:00  212.679993  216.229996  208.800003  209.949997   \n",
       "2025-07-08 00:00:00-04:00  210.100006  211.429993  208.449997  210.009995   \n",
       "2025-07-09 00:00:00-04:00  209.529999  211.330002  207.220001  211.139999   \n",
       "2025-07-10 00:00:00-04:00  210.509995  213.479996  210.029999  212.410004   \n",
       "2025-07-11 00:00:00-04:00  210.570007  212.130005  209.860001  211.160004   \n",
       "2025-07-14 00:00:00-04:00  209.929993  210.910004  207.539993  208.619995   \n",
       "2025-07-15 00:00:00-04:00  209.220001  211.889999  208.919998  209.110001   \n",
       "2025-07-16 00:00:00-04:00  210.300003  212.399994  208.639999  210.160004   \n",
       "\n",
       "                             Volume  Dividends  Stock Splits  \n",
       "Date                                                          \n",
       "2025-06-17 00:00:00-04:00  38856200        0.0           0.0  \n",
       "2025-06-18 00:00:00-04:00  45394700        0.0           0.0  \n",
       "2025-06-20 00:00:00-04:00  96813500        0.0           0.0  \n",
       "2025-06-23 00:00:00-04:00  55814300        0.0           0.0  \n",
       "2025-06-24 00:00:00-04:00  54064000        0.0           0.0  \n",
       "2025-06-25 00:00:00-04:00  39525700        0.0           0.0  \n",
       "2025-06-26 00:00:00-04:00  50799100        0.0           0.0  \n",
       "2025-06-27 00:00:00-04:00  73188600        0.0           0.0  \n",
       "2025-06-30 00:00:00-04:00  91912800        0.0           0.0  \n",
       "2025-07-01 00:00:00-04:00  78788900        0.0           0.0  \n",
       "2025-07-02 00:00:00-04:00  67941800        0.0           0.0  \n",
       "2025-07-03 00:00:00-04:00  34955800        0.0           0.0  \n",
       "2025-07-07 00:00:00-04:00  50229000        0.0           0.0  \n",
       "2025-07-08 00:00:00-04:00  42848900        0.0           0.0  \n",
       "2025-07-09 00:00:00-04:00  48749400        0.0           0.0  \n",
       "2025-07-10 00:00:00-04:00  44443600        0.0           0.0  \n",
       "2025-07-11 00:00:00-04:00  39765800        0.0           0.0  \n",
       "2025-07-14 00:00:00-04:00  38840100        0.0           0.0  \n",
       "2025-07-15 00:00:00-04:00  42296300        0.0           0.0  \n",
       "2025-07-16 00:00:00-04:00  47429600        0.0           0.0  "
      ]
     },
     "execution_count": 78,
     "metadata": {},
     "output_type": "execute_result"
    }
   ],
   "source": [
    "tickers.tickers[\"AAPL\"].history(period=\"1mo\")\n"
   ]
  },
  {
   "cell_type": "code",
   "execution_count": 79,
   "metadata": {
    "ExecuteTime": {
     "end_time": "2020-06-16T16:44:16.719522Z",
     "start_time": "2020-06-16T16:44:16.472839Z"
    }
   },
   "outputs": [
    {
     "name": "stderr",
     "output_type": "stream",
     "text": [
      "[*********************100%***********************]  2 of 2 completed\n"
     ]
    },
    {
     "data": {
      "text/html": [
       "<div>\n",
       "<style scoped>\n",
       "    .dataframe tbody tr th:only-of-type {\n",
       "        vertical-align: middle;\n",
       "    }\n",
       "\n",
       "    .dataframe tbody tr th {\n",
       "        vertical-align: top;\n",
       "    }\n",
       "\n",
       "    .dataframe thead th {\n",
       "        text-align: right;\n",
       "    }\n",
       "</style>\n",
       "<table border=\"1\" class=\"dataframe\">\n",
       "  <thead>\n",
       "    <tr style=\"text-align: right;\">\n",
       "      <th></th>\n",
       "      <th>Price</th>\n",
       "      <th>Close</th>\n",
       "      <th>Dividends</th>\n",
       "      <th>High</th>\n",
       "      <th>Low</th>\n",
       "      <th>Open</th>\n",
       "      <th>Stock Splits</th>\n",
       "      <th>Volume</th>\n",
       "    </tr>\n",
       "    <tr>\n",
       "      <th>Date</th>\n",
       "      <th>Ticker</th>\n",
       "      <th></th>\n",
       "      <th></th>\n",
       "      <th></th>\n",
       "      <th></th>\n",
       "      <th></th>\n",
       "      <th></th>\n",
       "      <th></th>\n",
       "    </tr>\n",
       "  </thead>\n",
       "  <tbody>\n",
       "    <tr>\n",
       "      <th rowspan=\"2\" valign=\"top\">2025-06-17</th>\n",
       "      <th>AAPL</th>\n",
       "      <td>195.639999</td>\n",
       "      <td>0.0</td>\n",
       "      <td>198.389999</td>\n",
       "      <td>195.210007</td>\n",
       "      <td>197.199997</td>\n",
       "      <td>0.0</td>\n",
       "      <td>38856200</td>\n",
       "    </tr>\n",
       "    <tr>\n",
       "      <th>MSFT</th>\n",
       "      <td>478.040009</td>\n",
       "      <td>0.0</td>\n",
       "      <td>478.739990</td>\n",
       "      <td>474.079987</td>\n",
       "      <td>475.399994</td>\n",
       "      <td>0.0</td>\n",
       "      <td>15414100</td>\n",
       "    </tr>\n",
       "    <tr>\n",
       "      <th rowspan=\"2\" valign=\"top\">2025-06-18</th>\n",
       "      <th>AAPL</th>\n",
       "      <td>196.580002</td>\n",
       "      <td>0.0</td>\n",
       "      <td>197.570007</td>\n",
       "      <td>195.070007</td>\n",
       "      <td>195.940002</td>\n",
       "      <td>0.0</td>\n",
       "      <td>45394700</td>\n",
       "    </tr>\n",
       "    <tr>\n",
       "      <th>MSFT</th>\n",
       "      <td>480.239990</td>\n",
       "      <td>0.0</td>\n",
       "      <td>481.000000</td>\n",
       "      <td>474.459991</td>\n",
       "      <td>478.000000</td>\n",
       "      <td>0.0</td>\n",
       "      <td>17526500</td>\n",
       "    </tr>\n",
       "    <tr>\n",
       "      <th rowspan=\"2\" valign=\"top\">2025-06-20</th>\n",
       "      <th>AAPL</th>\n",
       "      <td>201.000000</td>\n",
       "      <td>0.0</td>\n",
       "      <td>201.699997</td>\n",
       "      <td>196.860001</td>\n",
       "      <td>198.240005</td>\n",
       "      <td>0.0</td>\n",
       "      <td>96813500</td>\n",
       "    </tr>\n",
       "    <tr>\n",
       "      <th>MSFT</th>\n",
       "      <td>477.399994</td>\n",
       "      <td>0.0</td>\n",
       "      <td>483.459991</td>\n",
       "      <td>476.869995</td>\n",
       "      <td>482.230011</td>\n",
       "      <td>0.0</td>\n",
       "      <td>37576200</td>\n",
       "    </tr>\n",
       "    <tr>\n",
       "      <th rowspan=\"2\" valign=\"top\">2025-06-23</th>\n",
       "      <th>AAPL</th>\n",
       "      <td>201.500000</td>\n",
       "      <td>0.0</td>\n",
       "      <td>202.300003</td>\n",
       "      <td>198.960007</td>\n",
       "      <td>201.630005</td>\n",
       "      <td>0.0</td>\n",
       "      <td>55814300</td>\n",
       "    </tr>\n",
       "    <tr>\n",
       "      <th>MSFT</th>\n",
       "      <td>486.000000</td>\n",
       "      <td>0.0</td>\n",
       "      <td>487.750000</td>\n",
       "      <td>472.510010</td>\n",
       "      <td>478.209991</td>\n",
       "      <td>0.0</td>\n",
       "      <td>24864000</td>\n",
       "    </tr>\n",
       "    <tr>\n",
       "      <th rowspan=\"2\" valign=\"top\">2025-06-24</th>\n",
       "      <th>AAPL</th>\n",
       "      <td>200.300003</td>\n",
       "      <td>0.0</td>\n",
       "      <td>203.440002</td>\n",
       "      <td>200.199997</td>\n",
       "      <td>202.589996</td>\n",
       "      <td>0.0</td>\n",
       "      <td>54064000</td>\n",
       "    </tr>\n",
       "    <tr>\n",
       "      <th>MSFT</th>\n",
       "      <td>490.109985</td>\n",
       "      <td>0.0</td>\n",
       "      <td>491.850006</td>\n",
       "      <td>486.799988</td>\n",
       "      <td>488.950012</td>\n",
       "      <td>0.0</td>\n",
       "      <td>22305600</td>\n",
       "    </tr>\n",
       "    <tr>\n",
       "      <th rowspan=\"2\" valign=\"top\">2025-06-25</th>\n",
       "      <th>AAPL</th>\n",
       "      <td>201.559998</td>\n",
       "      <td>0.0</td>\n",
       "      <td>203.669998</td>\n",
       "      <td>200.619995</td>\n",
       "      <td>201.449997</td>\n",
       "      <td>0.0</td>\n",
       "      <td>39525700</td>\n",
       "    </tr>\n",
       "    <tr>\n",
       "      <th>MSFT</th>\n",
       "      <td>492.269989</td>\n",
       "      <td>0.0</td>\n",
       "      <td>494.559998</td>\n",
       "      <td>489.390015</td>\n",
       "      <td>492.040009</td>\n",
       "      <td>0.0</td>\n",
       "      <td>17495100</td>\n",
       "    </tr>\n",
       "    <tr>\n",
       "      <th rowspan=\"2\" valign=\"top\">2025-06-26</th>\n",
       "      <th>AAPL</th>\n",
       "      <td>201.000000</td>\n",
       "      <td>0.0</td>\n",
       "      <td>202.639999</td>\n",
       "      <td>199.460007</td>\n",
       "      <td>201.429993</td>\n",
       "      <td>0.0</td>\n",
       "      <td>50799100</td>\n",
       "    </tr>\n",
       "    <tr>\n",
       "      <th>MSFT</th>\n",
       "      <td>497.450012</td>\n",
       "      <td>0.0</td>\n",
       "      <td>498.040009</td>\n",
       "      <td>492.809998</td>\n",
       "      <td>492.980011</td>\n",
       "      <td>0.0</td>\n",
       "      <td>21578900</td>\n",
       "    </tr>\n",
       "    <tr>\n",
       "      <th rowspan=\"2\" valign=\"top\">2025-06-27</th>\n",
       "      <th>AAPL</th>\n",
       "      <td>201.080002</td>\n",
       "      <td>0.0</td>\n",
       "      <td>203.220001</td>\n",
       "      <td>200.000000</td>\n",
       "      <td>201.889999</td>\n",
       "      <td>0.0</td>\n",
       "      <td>73188600</td>\n",
       "    </tr>\n",
       "    <tr>\n",
       "      <th>MSFT</th>\n",
       "      <td>495.940002</td>\n",
       "      <td>0.0</td>\n",
       "      <td>499.299988</td>\n",
       "      <td>493.029999</td>\n",
       "      <td>497.549988</td>\n",
       "      <td>0.0</td>\n",
       "      <td>34539200</td>\n",
       "    </tr>\n",
       "    <tr>\n",
       "      <th rowspan=\"2\" valign=\"top\">2025-06-30</th>\n",
       "      <th>AAPL</th>\n",
       "      <td>205.169998</td>\n",
       "      <td>0.0</td>\n",
       "      <td>207.389999</td>\n",
       "      <td>199.259995</td>\n",
       "      <td>202.009995</td>\n",
       "      <td>0.0</td>\n",
       "      <td>91912800</td>\n",
       "    </tr>\n",
       "    <tr>\n",
       "      <th>MSFT</th>\n",
       "      <td>497.410004</td>\n",
       "      <td>0.0</td>\n",
       "      <td>500.760010</td>\n",
       "      <td>495.329987</td>\n",
       "      <td>497.040009</td>\n",
       "      <td>0.0</td>\n",
       "      <td>28369000</td>\n",
       "    </tr>\n",
       "    <tr>\n",
       "      <th rowspan=\"2\" valign=\"top\">2025-07-01</th>\n",
       "      <th>AAPL</th>\n",
       "      <td>207.820007</td>\n",
       "      <td>0.0</td>\n",
       "      <td>210.190002</td>\n",
       "      <td>206.139999</td>\n",
       "      <td>206.669998</td>\n",
       "      <td>0.0</td>\n",
       "      <td>78788900</td>\n",
       "    </tr>\n",
       "    <tr>\n",
       "      <th>MSFT</th>\n",
       "      <td>492.049988</td>\n",
       "      <td>0.0</td>\n",
       "      <td>498.049988</td>\n",
       "      <td>490.980011</td>\n",
       "      <td>496.470001</td>\n",
       "      <td>0.0</td>\n",
       "      <td>19945400</td>\n",
       "    </tr>\n",
       "    <tr>\n",
       "      <th rowspan=\"2\" valign=\"top\">2025-07-02</th>\n",
       "      <th>AAPL</th>\n",
       "      <td>212.440002</td>\n",
       "      <td>0.0</td>\n",
       "      <td>213.339996</td>\n",
       "      <td>208.139999</td>\n",
       "      <td>208.910004</td>\n",
       "      <td>0.0</td>\n",
       "      <td>67941800</td>\n",
       "    </tr>\n",
       "    <tr>\n",
       "      <th>MSFT</th>\n",
       "      <td>491.089996</td>\n",
       "      <td>0.0</td>\n",
       "      <td>493.500000</td>\n",
       "      <td>488.700012</td>\n",
       "      <td>489.989990</td>\n",
       "      <td>0.0</td>\n",
       "      <td>16319600</td>\n",
       "    </tr>\n",
       "    <tr>\n",
       "      <th rowspan=\"2\" valign=\"top\">2025-07-03</th>\n",
       "      <th>AAPL</th>\n",
       "      <td>213.550003</td>\n",
       "      <td>0.0</td>\n",
       "      <td>214.649994</td>\n",
       "      <td>211.809998</td>\n",
       "      <td>212.149994</td>\n",
       "      <td>0.0</td>\n",
       "      <td>34955800</td>\n",
       "    </tr>\n",
       "    <tr>\n",
       "      <th>MSFT</th>\n",
       "      <td>498.839996</td>\n",
       "      <td>0.0</td>\n",
       "      <td>500.130005</td>\n",
       "      <td>493.440002</td>\n",
       "      <td>493.809998</td>\n",
       "      <td>0.0</td>\n",
       "      <td>13984800</td>\n",
       "    </tr>\n",
       "    <tr>\n",
       "      <th rowspan=\"2\" valign=\"top\">2025-07-07</th>\n",
       "      <th>AAPL</th>\n",
       "      <td>209.949997</td>\n",
       "      <td>0.0</td>\n",
       "      <td>216.229996</td>\n",
       "      <td>208.800003</td>\n",
       "      <td>212.679993</td>\n",
       "      <td>0.0</td>\n",
       "      <td>50229000</td>\n",
       "    </tr>\n",
       "    <tr>\n",
       "      <th>MSFT</th>\n",
       "      <td>497.720001</td>\n",
       "      <td>0.0</td>\n",
       "      <td>498.750000</td>\n",
       "      <td>495.230011</td>\n",
       "      <td>497.380005</td>\n",
       "      <td>0.0</td>\n",
       "      <td>13981600</td>\n",
       "    </tr>\n",
       "    <tr>\n",
       "      <th rowspan=\"2\" valign=\"top\">2025-07-08</th>\n",
       "      <th>AAPL</th>\n",
       "      <td>210.009995</td>\n",
       "      <td>0.0</td>\n",
       "      <td>211.429993</td>\n",
       "      <td>208.449997</td>\n",
       "      <td>210.100006</td>\n",
       "      <td>0.0</td>\n",
       "      <td>42848900</td>\n",
       "    </tr>\n",
       "    <tr>\n",
       "      <th>MSFT</th>\n",
       "      <td>496.619995</td>\n",
       "      <td>0.0</td>\n",
       "      <td>498.200012</td>\n",
       "      <td>494.109985</td>\n",
       "      <td>497.239990</td>\n",
       "      <td>0.0</td>\n",
       "      <td>11846600</td>\n",
       "    </tr>\n",
       "    <tr>\n",
       "      <th rowspan=\"2\" valign=\"top\">2025-07-09</th>\n",
       "      <th>AAPL</th>\n",
       "      <td>211.139999</td>\n",
       "      <td>0.0</td>\n",
       "      <td>211.330002</td>\n",
       "      <td>207.220001</td>\n",
       "      <td>209.529999</td>\n",
       "      <td>0.0</td>\n",
       "      <td>48749400</td>\n",
       "    </tr>\n",
       "    <tr>\n",
       "      <th>MSFT</th>\n",
       "      <td>503.510010</td>\n",
       "      <td>0.0</td>\n",
       "      <td>506.779999</td>\n",
       "      <td>499.739990</td>\n",
       "      <td>500.299988</td>\n",
       "      <td>0.0</td>\n",
       "      <td>18659500</td>\n",
       "    </tr>\n",
       "    <tr>\n",
       "      <th rowspan=\"2\" valign=\"top\">2025-07-10</th>\n",
       "      <th>AAPL</th>\n",
       "      <td>212.410004</td>\n",
       "      <td>0.0</td>\n",
       "      <td>213.479996</td>\n",
       "      <td>210.029999</td>\n",
       "      <td>210.509995</td>\n",
       "      <td>0.0</td>\n",
       "      <td>44443600</td>\n",
       "    </tr>\n",
       "    <tr>\n",
       "      <th>MSFT</th>\n",
       "      <td>501.480011</td>\n",
       "      <td>0.0</td>\n",
       "      <td>504.440002</td>\n",
       "      <td>497.750000</td>\n",
       "      <td>503.049988</td>\n",
       "      <td>0.0</td>\n",
       "      <td>16492100</td>\n",
       "    </tr>\n",
       "    <tr>\n",
       "      <th rowspan=\"2\" valign=\"top\">2025-07-11</th>\n",
       "      <th>AAPL</th>\n",
       "      <td>211.160004</td>\n",
       "      <td>0.0</td>\n",
       "      <td>212.130005</td>\n",
       "      <td>209.860001</td>\n",
       "      <td>210.570007</td>\n",
       "      <td>0.0</td>\n",
       "      <td>39765800</td>\n",
       "    </tr>\n",
       "    <tr>\n",
       "      <th>MSFT</th>\n",
       "      <td>503.320007</td>\n",
       "      <td>0.0</td>\n",
       "      <td>505.029999</td>\n",
       "      <td>497.799988</td>\n",
       "      <td>498.470001</td>\n",
       "      <td>0.0</td>\n",
       "      <td>16459500</td>\n",
       "    </tr>\n",
       "    <tr>\n",
       "      <th rowspan=\"2\" valign=\"top\">2025-07-14</th>\n",
       "      <th>AAPL</th>\n",
       "      <td>208.619995</td>\n",
       "      <td>0.0</td>\n",
       "      <td>210.910004</td>\n",
       "      <td>207.539993</td>\n",
       "      <td>209.929993</td>\n",
       "      <td>0.0</td>\n",
       "      <td>38840100</td>\n",
       "    </tr>\n",
       "    <tr>\n",
       "      <th>MSFT</th>\n",
       "      <td>503.019989</td>\n",
       "      <td>0.0</td>\n",
       "      <td>503.970001</td>\n",
       "      <td>501.029999</td>\n",
       "      <td>501.519989</td>\n",
       "      <td>0.0</td>\n",
       "      <td>12058800</td>\n",
       "    </tr>\n",
       "    <tr>\n",
       "      <th rowspan=\"2\" valign=\"top\">2025-07-15</th>\n",
       "      <th>AAPL</th>\n",
       "      <td>209.110001</td>\n",
       "      <td>0.0</td>\n",
       "      <td>211.889999</td>\n",
       "      <td>208.919998</td>\n",
       "      <td>209.220001</td>\n",
       "      <td>0.0</td>\n",
       "      <td>42296300</td>\n",
       "    </tr>\n",
       "    <tr>\n",
       "      <th>MSFT</th>\n",
       "      <td>505.820007</td>\n",
       "      <td>0.0</td>\n",
       "      <td>508.299988</td>\n",
       "      <td>502.790009</td>\n",
       "      <td>503.019989</td>\n",
       "      <td>0.0</td>\n",
       "      <td>14927200</td>\n",
       "    </tr>\n",
       "    <tr>\n",
       "      <th rowspan=\"2\" valign=\"top\">2025-07-16</th>\n",
       "      <th>AAPL</th>\n",
       "      <td>210.160004</td>\n",
       "      <td>0.0</td>\n",
       "      <td>212.399994</td>\n",
       "      <td>208.639999</td>\n",
       "      <td>210.300003</td>\n",
       "      <td>0.0</td>\n",
       "      <td>47429600</td>\n",
       "    </tr>\n",
       "    <tr>\n",
       "      <th>MSFT</th>\n",
       "      <td>505.619995</td>\n",
       "      <td>0.0</td>\n",
       "      <td>506.720001</td>\n",
       "      <td>501.890015</td>\n",
       "      <td>505.179993</td>\n",
       "      <td>0.0</td>\n",
       "      <td>15146200</td>\n",
       "    </tr>\n",
       "  </tbody>\n",
       "</table>\n",
       "</div>"
      ],
      "text/plain": [
       "Price                   Close  Dividends        High         Low        Open  \\\n",
       "Date       Ticker                                                              \n",
       "2025-06-17 AAPL    195.639999        0.0  198.389999  195.210007  197.199997   \n",
       "           MSFT    478.040009        0.0  478.739990  474.079987  475.399994   \n",
       "2025-06-18 AAPL    196.580002        0.0  197.570007  195.070007  195.940002   \n",
       "           MSFT    480.239990        0.0  481.000000  474.459991  478.000000   \n",
       "2025-06-20 AAPL    201.000000        0.0  201.699997  196.860001  198.240005   \n",
       "           MSFT    477.399994        0.0  483.459991  476.869995  482.230011   \n",
       "2025-06-23 AAPL    201.500000        0.0  202.300003  198.960007  201.630005   \n",
       "           MSFT    486.000000        0.0  487.750000  472.510010  478.209991   \n",
       "2025-06-24 AAPL    200.300003        0.0  203.440002  200.199997  202.589996   \n",
       "           MSFT    490.109985        0.0  491.850006  486.799988  488.950012   \n",
       "2025-06-25 AAPL    201.559998        0.0  203.669998  200.619995  201.449997   \n",
       "           MSFT    492.269989        0.0  494.559998  489.390015  492.040009   \n",
       "2025-06-26 AAPL    201.000000        0.0  202.639999  199.460007  201.429993   \n",
       "           MSFT    497.450012        0.0  498.040009  492.809998  492.980011   \n",
       "2025-06-27 AAPL    201.080002        0.0  203.220001  200.000000  201.889999   \n",
       "           MSFT    495.940002        0.0  499.299988  493.029999  497.549988   \n",
       "2025-06-30 AAPL    205.169998        0.0  207.389999  199.259995  202.009995   \n",
       "           MSFT    497.410004        0.0  500.760010  495.329987  497.040009   \n",
       "2025-07-01 AAPL    207.820007        0.0  210.190002  206.139999  206.669998   \n",
       "           MSFT    492.049988        0.0  498.049988  490.980011  496.470001   \n",
       "2025-07-02 AAPL    212.440002        0.0  213.339996  208.139999  208.910004   \n",
       "           MSFT    491.089996        0.0  493.500000  488.700012  489.989990   \n",
       "2025-07-03 AAPL    213.550003        0.0  214.649994  211.809998  212.149994   \n",
       "           MSFT    498.839996        0.0  500.130005  493.440002  493.809998   \n",
       "2025-07-07 AAPL    209.949997        0.0  216.229996  208.800003  212.679993   \n",
       "           MSFT    497.720001        0.0  498.750000  495.230011  497.380005   \n",
       "2025-07-08 AAPL    210.009995        0.0  211.429993  208.449997  210.100006   \n",
       "           MSFT    496.619995        0.0  498.200012  494.109985  497.239990   \n",
       "2025-07-09 AAPL    211.139999        0.0  211.330002  207.220001  209.529999   \n",
       "           MSFT    503.510010        0.0  506.779999  499.739990  500.299988   \n",
       "2025-07-10 AAPL    212.410004        0.0  213.479996  210.029999  210.509995   \n",
       "           MSFT    501.480011        0.0  504.440002  497.750000  503.049988   \n",
       "2025-07-11 AAPL    211.160004        0.0  212.130005  209.860001  210.570007   \n",
       "           MSFT    503.320007        0.0  505.029999  497.799988  498.470001   \n",
       "2025-07-14 AAPL    208.619995        0.0  210.910004  207.539993  209.929993   \n",
       "           MSFT    503.019989        0.0  503.970001  501.029999  501.519989   \n",
       "2025-07-15 AAPL    209.110001        0.0  211.889999  208.919998  209.220001   \n",
       "           MSFT    505.820007        0.0  508.299988  502.790009  503.019989   \n",
       "2025-07-16 AAPL    210.160004        0.0  212.399994  208.639999  210.300003   \n",
       "           MSFT    505.619995        0.0  506.720001  501.890015  505.179993   \n",
       "\n",
       "Price              Stock Splits    Volume  \n",
       "Date       Ticker                          \n",
       "2025-06-17 AAPL             0.0  38856200  \n",
       "           MSFT             0.0  15414100  \n",
       "2025-06-18 AAPL             0.0  45394700  \n",
       "           MSFT             0.0  17526500  \n",
       "2025-06-20 AAPL             0.0  96813500  \n",
       "           MSFT             0.0  37576200  \n",
       "2025-06-23 AAPL             0.0  55814300  \n",
       "           MSFT             0.0  24864000  \n",
       "2025-06-24 AAPL             0.0  54064000  \n",
       "           MSFT             0.0  22305600  \n",
       "2025-06-25 AAPL             0.0  39525700  \n",
       "           MSFT             0.0  17495100  \n",
       "2025-06-26 AAPL             0.0  50799100  \n",
       "           MSFT             0.0  21578900  \n",
       "2025-06-27 AAPL             0.0  73188600  \n",
       "           MSFT             0.0  34539200  \n",
       "2025-06-30 AAPL             0.0  91912800  \n",
       "           MSFT             0.0  28369000  \n",
       "2025-07-01 AAPL             0.0  78788900  \n",
       "           MSFT             0.0  19945400  \n",
       "2025-07-02 AAPL             0.0  67941800  \n",
       "           MSFT             0.0  16319600  \n",
       "2025-07-03 AAPL             0.0  34955800  \n",
       "           MSFT             0.0  13984800  \n",
       "2025-07-07 AAPL             0.0  50229000  \n",
       "           MSFT             0.0  13981600  \n",
       "2025-07-08 AAPL             0.0  42848900  \n",
       "           MSFT             0.0  11846600  \n",
       "2025-07-09 AAPL             0.0  48749400  \n",
       "           MSFT             0.0  18659500  \n",
       "2025-07-10 AAPL             0.0  44443600  \n",
       "           MSFT             0.0  16492100  \n",
       "2025-07-11 AAPL             0.0  39765800  \n",
       "           MSFT             0.0  16459500  \n",
       "2025-07-14 AAPL             0.0  38840100  \n",
       "           MSFT             0.0  12058800  \n",
       "2025-07-15 AAPL             0.0  42296300  \n",
       "           MSFT             0.0  14927200  \n",
       "2025-07-16 AAPL             0.0  47429600  \n",
       "           MSFT             0.0  15146200  "
      ]
     },
     "execution_count": 79,
     "metadata": {},
     "output_type": "execute_result"
    }
   ],
   "source": [
    "tickers.history(period='1mo').stack(-1)"
   ]
  },
  {
   "cell_type": "code",
   "execution_count": 80,
   "metadata": {
    "ExecuteTime": {
     "end_time": "2020-06-16T16:44:19.208338Z",
     "start_time": "2020-06-16T16:44:19.026948Z"
    }
   },
   "outputs": [
    {
     "name": "stderr",
     "output_type": "stream",
     "text": [
      "[*********************100%***********************]  2 of 2 completed\n"
     ]
    }
   ],
   "source": [
    "data = yf.download(\"SPY AAPL\", start=\"2020-01-01\", end=\"2020-01-05\")"
   ]
  },
  {
   "cell_type": "code",
   "execution_count": 81,
   "metadata": {
    "ExecuteTime": {
     "end_time": "2020-06-16T16:44:19.271313Z",
     "start_time": "2020-06-16T16:44:19.249642Z"
    }
   },
   "outputs": [
    {
     "name": "stdout",
     "output_type": "stream",
     "text": [
      "<class 'pandas.core.frame.DataFrame'>\n",
      "DatetimeIndex: 2 entries, 2020-01-02 to 2020-01-03\n",
      "Data columns (total 10 columns):\n",
      " #   Column          Non-Null Count  Dtype  \n",
      "---  ------          --------------  -----  \n",
      " 0   (Close, AAPL)   2 non-null      float64\n",
      " 1   (Close, SPY)    2 non-null      float64\n",
      " 2   (High, AAPL)    2 non-null      float64\n",
      " 3   (High, SPY)     2 non-null      float64\n",
      " 4   (Low, AAPL)     2 non-null      float64\n",
      " 5   (Low, SPY)      2 non-null      float64\n",
      " 6   (Open, AAPL)    2 non-null      float64\n",
      " 7   (Open, SPY)     2 non-null      float64\n",
      " 8   (Volume, AAPL)  2 non-null      int64  \n",
      " 9   (Volume, SPY)   2 non-null      int64  \n",
      "dtypes: float64(8), int64(2)\n",
      "memory usage: 176.0 bytes\n"
     ]
    }
   ],
   "source": [
    "data.info()"
   ]
  },
  {
   "cell_type": "code",
   "execution_count": 82,
   "metadata": {
    "ExecuteTime": {
     "end_time": "2020-06-16T16:44:19.986819Z",
     "start_time": "2020-06-16T16:44:19.536937Z"
    }
   },
   "outputs": [
    {
     "name": "stderr",
     "output_type": "stream",
     "text": [
      "[*********************100%***********************]  3 of 3 completed\n"
     ]
    }
   ],
   "source": [
    "data = yf.download(\n",
    "        tickers = \"SPY AAPL MSFT\", # list or string\n",
    "\n",
    "        # use \"period\" instead of start/end\n",
    "        # valid periods: 1d,5d,1mo,3mo,6mo,1y,2y,5y,10y,ytd,max\n",
    "        # (optional, default is '1mo')\n",
    "        period = \"5d\",\n",
    "\n",
    "        # fetch data by interval (including intraday if period < 60 days)\n",
    "        # valid intervals: 1m,2m,5m,15m,30m,60m,90m,1h,1d,5d,1wk,1mo,3mo\n",
    "        # (optional, default is '1d')\n",
    "        interval = \"1m\",\n",
    "\n",
    "        # group by ticker (to access via data['SPY'])\n",
    "        # (optional, default is 'column')\n",
    "        group_by = 'ticker',\n",
    "\n",
    "        # adjust all OHLC automatically\n",
    "        # (optional, default is False)\n",
    "        auto_adjust = True,\n",
    "\n",
    "        # download pre/post regular market hours data\n",
    "        # (optional, default is False)\n",
    "        prepost = True,\n",
    "\n",
    "        # use threads for mass downloading? (True/False/Integer)\n",
    "        # (optional, default is True)\n",
    "        threads = True,\n",
    "\n",
    "        # proxy URL scheme use use when downloading?\n",
    "        # (optional, default is None)\n",
    "        proxy = None\n",
    "    )"
   ]
  },
  {
   "cell_type": "code",
   "execution_count": 83,
   "metadata": {
    "ExecuteTime": {
     "end_time": "2020-06-16T16:44:20.637708Z",
     "start_time": "2020-06-16T16:44:20.611809Z"
    }
   },
   "outputs": [
    {
     "name": "stdout",
     "output_type": "stream",
     "text": [
      "<class 'pandas.core.frame.DataFrame'>\n",
      "DatetimeIndex: 3962 entries, 2025-07-11 08:00:00+00:00 to 2025-07-17 10:01:17+00:00\n",
      "Data columns (total 15 columns):\n",
      " #   Column          Non-Null Count  Dtype  \n",
      "---  ------          --------------  -----  \n",
      " 0   (MSFT, Open)    3426 non-null   float64\n",
      " 1   (MSFT, High)    3426 non-null   float64\n",
      " 2   (MSFT, Low)     3426 non-null   float64\n",
      " 3   (MSFT, Close)   3426 non-null   float64\n",
      " 4   (MSFT, Volume)  3426 non-null   float64\n",
      " 5   (AAPL, Open)    3763 non-null   float64\n",
      " 6   (AAPL, High)    3763 non-null   float64\n",
      " 7   (AAPL, Low)     3763 non-null   float64\n",
      " 8   (AAPL, Close)   3763 non-null   float64\n",
      " 9   (AAPL, Volume)  3763 non-null   float64\n",
      " 10  (SPY, Open)     3873 non-null   float64\n",
      " 11  (SPY, High)     3873 non-null   float64\n",
      " 12  (SPY, Low)      3873 non-null   float64\n",
      " 13  (SPY, Close)    3873 non-null   float64\n",
      " 14  (SPY, Volume)   3873 non-null   float64\n",
      "dtypes: float64(15)\n",
      "memory usage: 495.2 KB\n"
     ]
    }
   ],
   "source": [
    "data.info()"
   ]
  },
  {
   "cell_type": "code",
   "execution_count": 84,
   "metadata": {},
   "outputs": [
    {
     "name": "stdout",
     "output_type": "stream",
     "text": [
      "Requirement already satisfied: pandas_datareader in c:\\users\\lenovo\\anaconda3\\lib\\site-packages (0.10.0)\n",
      "Requirement already satisfied: lxml in c:\\users\\lenovo\\anaconda3\\lib\\site-packages (from pandas_datareader) (5.3.0)\n",
      "Requirement already satisfied: pandas>=0.23 in c:\\users\\lenovo\\anaconda3\\lib\\site-packages (from pandas_datareader) (2.2.3)\n",
      "Requirement already satisfied: requests>=2.19.0 in c:\\users\\lenovo\\anaconda3\\lib\\site-packages (from pandas_datareader) (2.32.3)\n",
      "Requirement already satisfied: numpy>=1.26.0 in c:\\users\\lenovo\\anaconda3\\lib\\site-packages (from pandas>=0.23->pandas_datareader) (2.2.4)\n",
      "Requirement already satisfied: python-dateutil>=2.8.2 in c:\\users\\lenovo\\anaconda3\\lib\\site-packages (from pandas>=0.23->pandas_datareader) (2.9.0.post0)\n",
      "Requirement already satisfied: pytz>=2020.1 in c:\\users\\lenovo\\anaconda3\\lib\\site-packages (from pandas>=0.23->pandas_datareader) (2024.1)\n",
      "Requirement already satisfied: tzdata>=2022.7 in c:\\users\\lenovo\\anaconda3\\lib\\site-packages (from pandas>=0.23->pandas_datareader) (2023.3)\n",
      "Requirement already satisfied: charset-normalizer<4,>=2 in c:\\users\\lenovo\\anaconda3\\lib\\site-packages (from requests>=2.19.0->pandas_datareader) (3.3.2)\n",
      "Requirement already satisfied: idna<4,>=2.5 in c:\\users\\lenovo\\anaconda3\\lib\\site-packages (from requests>=2.19.0->pandas_datareader) (3.7)\n",
      "Requirement already satisfied: urllib3<3,>=1.21.1 in c:\\users\\lenovo\\anaconda3\\lib\\site-packages (from requests>=2.19.0->pandas_datareader) (2.3.0)\n",
      "Requirement already satisfied: certifi>=2017.4.17 in c:\\users\\lenovo\\anaconda3\\lib\\site-packages (from requests>=2.19.0->pandas_datareader) (2025.1.31)\n",
      "Requirement already satisfied: six>=1.5 in c:\\users\\lenovo\\anaconda3\\lib\\site-packages (from python-dateutil>=2.8.2->pandas>=0.23->pandas_datareader) (1.16.0)\n"
     ]
    },
    {
     "name": "stderr",
     "output_type": "stream",
     "text": [
      "\n",
      "[notice] A new release of pip is available: 25.0.1 -> 25.1.1\n",
      "[notice] To update, run: python.exe -m pip install --upgrade pip\n"
     ]
    }
   ],
   "source": [
    "!pip install pandas_datareader\n"
   ]
  },
  {
   "cell_type": "code",
   "execution_count": 85,
   "metadata": {
    "ExecuteTime": {
     "end_time": "2020-06-16T16:44:21.533793Z",
     "start_time": "2020-06-16T16:44:21.348927Z"
    }
   },
   "outputs": [
    {
     "name": "stderr",
     "output_type": "stream",
     "text": [
      "[*********************100%***********************]  1 of 1 completed"
     ]
    },
    {
     "name": "stdout",
     "output_type": "stream",
     "text": [
      "Price        Adj Close       Close        High         Low        Open  \\\n",
      "Ticker             SPY         SPY         SPY         SPY         SPY   \n",
      "Date                                                                     \n",
      "2017-01-03  196.117371  225.240005  225.830002  223.880005  225.039993   \n",
      "2017-01-04  197.284119  226.580002  226.750000  225.610001  225.619995   \n",
      "2017-01-05  197.127396  226.399994  226.580002  225.479996  226.270004   \n",
      "2017-01-06  197.832626  227.210007  227.750000  225.899994  226.529999   \n",
      "2017-01-09  197.179642  226.460007  227.070007  226.419998  226.910004   \n",
      "\n",
      "Price         Volume  \n",
      "Ticker           SPY  \n",
      "Date                  \n",
      "2017-01-03  91366500  \n",
      "2017-01-04  78744400  \n",
      "2017-01-05  78379000  \n",
      "2017-01-06  71559900  \n",
      "2017-01-09  46939700  \n"
     ]
    },
    {
     "name": "stderr",
     "output_type": "stream",
     "text": [
      "\n"
     ]
    }
   ],
   "source": [
    "import yfinance as yf\n",
    "\n",
    "# Download SPY data directly from yfinance\n",
    "data = yf.download('SPY',\n",
    "                   start='2017-01-01',\n",
    "                   end='2019-04-30',\n",
    "                   auto_adjust=False)\n",
    "\n",
    "# Show first 5 rows\n",
    "print(data.head())\n"
   ]
  },
  {
   "cell_type": "code",
   "execution_count": 86,
   "metadata": {
    "ExecuteTime": {
     "end_time": "2020-06-16T16:44:23.025885Z",
     "start_time": "2020-06-16T16:44:23.000315Z"
    }
   },
   "outputs": [
    {
     "data": {
      "text/html": [
       "<div>\n",
       "<style scoped>\n",
       "    .dataframe tbody tr th:only-of-type {\n",
       "        vertical-align: middle;\n",
       "    }\n",
       "\n",
       "    .dataframe tbody tr th {\n",
       "        vertical-align: top;\n",
       "    }\n",
       "\n",
       "    .dataframe thead tr th {\n",
       "        text-align: left;\n",
       "    }\n",
       "\n",
       "    .dataframe thead tr:last-of-type th {\n",
       "        text-align: right;\n",
       "    }\n",
       "</style>\n",
       "<table border=\"1\" class=\"dataframe\">\n",
       "  <thead>\n",
       "    <tr>\n",
       "      <th>Price</th>\n",
       "      <th>Adj Close</th>\n",
       "      <th>Close</th>\n",
       "      <th>High</th>\n",
       "      <th>Low</th>\n",
       "      <th>Open</th>\n",
       "      <th>Volume</th>\n",
       "    </tr>\n",
       "    <tr>\n",
       "      <th>Ticker</th>\n",
       "      <th>SPY</th>\n",
       "      <th>SPY</th>\n",
       "      <th>SPY</th>\n",
       "      <th>SPY</th>\n",
       "      <th>SPY</th>\n",
       "      <th>SPY</th>\n",
       "    </tr>\n",
       "    <tr>\n",
       "      <th>Date</th>\n",
       "      <th></th>\n",
       "      <th></th>\n",
       "      <th></th>\n",
       "      <th></th>\n",
       "      <th></th>\n",
       "      <th></th>\n",
       "    </tr>\n",
       "  </thead>\n",
       "  <tbody>\n",
       "    <tr>\n",
       "      <th>2019-04-23</th>\n",
       "      <td>266.074402</td>\n",
       "      <td>292.880005</td>\n",
       "      <td>293.140015</td>\n",
       "      <td>290.420013</td>\n",
       "      <td>290.679993</td>\n",
       "      <td>52246600</td>\n",
       "    </tr>\n",
       "    <tr>\n",
       "      <th>2019-04-24</th>\n",
       "      <td>265.483948</td>\n",
       "      <td>292.230011</td>\n",
       "      <td>293.160004</td>\n",
       "      <td>292.070007</td>\n",
       "      <td>292.790009</td>\n",
       "      <td>50392900</td>\n",
       "    </tr>\n",
       "    <tr>\n",
       "      <th>2019-04-25</th>\n",
       "      <td>265.320404</td>\n",
       "      <td>292.049988</td>\n",
       "      <td>292.779999</td>\n",
       "      <td>290.730011</td>\n",
       "      <td>292.119995</td>\n",
       "      <td>57770900</td>\n",
       "    </tr>\n",
       "    <tr>\n",
       "      <th>2019-04-26</th>\n",
       "      <td>266.555969</td>\n",
       "      <td>293.410004</td>\n",
       "      <td>293.489990</td>\n",
       "      <td>291.239990</td>\n",
       "      <td>292.100006</td>\n",
       "      <td>50916400</td>\n",
       "    </tr>\n",
       "    <tr>\n",
       "      <th>2019-04-29</th>\n",
       "      <td>266.973846</td>\n",
       "      <td>293.869995</td>\n",
       "      <td>294.450012</td>\n",
       "      <td>293.410004</td>\n",
       "      <td>293.510010</td>\n",
       "      <td>57197700</td>\n",
       "    </tr>\n",
       "  </tbody>\n",
       "</table>\n",
       "</div>"
      ],
      "text/plain": [
       "Price        Adj Close       Close        High         Low        Open  \\\n",
       "Ticker             SPY         SPY         SPY         SPY         SPY   \n",
       "Date                                                                     \n",
       "2019-04-23  266.074402  292.880005  293.140015  290.420013  290.679993   \n",
       "2019-04-24  265.483948  292.230011  293.160004  292.070007  292.790009   \n",
       "2019-04-25  265.320404  292.049988  292.779999  290.730011  292.119995   \n",
       "2019-04-26  266.555969  293.410004  293.489990  291.239990  292.100006   \n",
       "2019-04-29  266.973846  293.869995  294.450012  293.410004  293.510010   \n",
       "\n",
       "Price         Volume  \n",
       "Ticker           SPY  \n",
       "Date                  \n",
       "2019-04-23  52246600  \n",
       "2019-04-24  50392900  \n",
       "2019-04-25  57770900  \n",
       "2019-04-26  50916400  \n",
       "2019-04-29  57197700  "
      ]
     },
     "execution_count": 86,
     "metadata": {},
     "output_type": "execute_result"
    }
   ],
   "source": [
    "# auto_adjust = True\n",
    "data.tail()"
   ]
  },
  {
   "cell_type": "code",
   "execution_count": 87,
   "metadata": {
    "ExecuteTime": {
     "end_time": "2020-06-16T16:44:23.278256Z",
     "start_time": "2020-06-16T16:44:23.261253Z"
    }
   },
   "outputs": [
    {
     "data": {
      "text/html": [
       "<div>\n",
       "<style scoped>\n",
       "    .dataframe tbody tr th:only-of-type {\n",
       "        vertical-align: middle;\n",
       "    }\n",
       "\n",
       "    .dataframe tbody tr th {\n",
       "        vertical-align: top;\n",
       "    }\n",
       "\n",
       "    .dataframe thead tr th {\n",
       "        text-align: left;\n",
       "    }\n",
       "\n",
       "    .dataframe thead tr:last-of-type th {\n",
       "        text-align: right;\n",
       "    }\n",
       "</style>\n",
       "<table border=\"1\" class=\"dataframe\">\n",
       "  <thead>\n",
       "    <tr>\n",
       "      <th>Price</th>\n",
       "      <th>Adj Close</th>\n",
       "      <th>Close</th>\n",
       "      <th>High</th>\n",
       "      <th>Low</th>\n",
       "      <th>Open</th>\n",
       "      <th>Volume</th>\n",
       "    </tr>\n",
       "    <tr>\n",
       "      <th>Ticker</th>\n",
       "      <th>SPY</th>\n",
       "      <th>SPY</th>\n",
       "      <th>SPY</th>\n",
       "      <th>SPY</th>\n",
       "      <th>SPY</th>\n",
       "      <th>SPY</th>\n",
       "    </tr>\n",
       "    <tr>\n",
       "      <th>Date</th>\n",
       "      <th></th>\n",
       "      <th></th>\n",
       "      <th></th>\n",
       "      <th></th>\n",
       "      <th></th>\n",
       "      <th></th>\n",
       "    </tr>\n",
       "  </thead>\n",
       "  <tbody>\n",
       "    <tr>\n",
       "      <th>2019-04-23</th>\n",
       "      <td>266.074402</td>\n",
       "      <td>292.880005</td>\n",
       "      <td>293.140015</td>\n",
       "      <td>290.420013</td>\n",
       "      <td>290.679993</td>\n",
       "      <td>52246600</td>\n",
       "    </tr>\n",
       "    <tr>\n",
       "      <th>2019-04-24</th>\n",
       "      <td>265.483948</td>\n",
       "      <td>292.230011</td>\n",
       "      <td>293.160004</td>\n",
       "      <td>292.070007</td>\n",
       "      <td>292.790009</td>\n",
       "      <td>50392900</td>\n",
       "    </tr>\n",
       "    <tr>\n",
       "      <th>2019-04-25</th>\n",
       "      <td>265.320404</td>\n",
       "      <td>292.049988</td>\n",
       "      <td>292.779999</td>\n",
       "      <td>290.730011</td>\n",
       "      <td>292.119995</td>\n",
       "      <td>57770900</td>\n",
       "    </tr>\n",
       "    <tr>\n",
       "      <th>2019-04-26</th>\n",
       "      <td>266.555969</td>\n",
       "      <td>293.410004</td>\n",
       "      <td>293.489990</td>\n",
       "      <td>291.239990</td>\n",
       "      <td>292.100006</td>\n",
       "      <td>50916400</td>\n",
       "    </tr>\n",
       "    <tr>\n",
       "      <th>2019-04-29</th>\n",
       "      <td>266.973846</td>\n",
       "      <td>293.869995</td>\n",
       "      <td>294.450012</td>\n",
       "      <td>293.410004</td>\n",
       "      <td>293.510010</td>\n",
       "      <td>57197700</td>\n",
       "    </tr>\n",
       "  </tbody>\n",
       "</table>\n",
       "</div>"
      ],
      "text/plain": [
       "Price        Adj Close       Close        High         Low        Open  \\\n",
       "Ticker             SPY         SPY         SPY         SPY         SPY   \n",
       "Date                                                                     \n",
       "2019-04-23  266.074402  292.880005  293.140015  290.420013  290.679993   \n",
       "2019-04-24  265.483948  292.230011  293.160004  292.070007  292.790009   \n",
       "2019-04-25  265.320404  292.049988  292.779999  290.730011  292.119995   \n",
       "2019-04-26  266.555969  293.410004  293.489990  291.239990  292.100006   \n",
       "2019-04-29  266.973846  293.869995  294.450012  293.410004  293.510010   \n",
       "\n",
       "Price         Volume  \n",
       "Ticker           SPY  \n",
       "Date                  \n",
       "2019-04-23  52246600  \n",
       "2019-04-24  50392900  \n",
       "2019-04-25  57770900  \n",
       "2019-04-26  50916400  \n",
       "2019-04-29  57197700  "
      ]
     },
     "execution_count": 87,
     "metadata": {},
     "output_type": "execute_result"
    }
   ],
   "source": [
    "# auto_adjust = False\n",
    "data.tail()"
   ]
  },
  {
   "cell_type": "code",
   "execution_count": null,
   "metadata": {},
   "outputs": [],
   "source": []
  }
 ],
 "metadata": {
  "kernelspec": {
   "display_name": "Python [conda env:base] *",
   "language": "python",
   "name": "conda-base-py"
  },
  "language_info": {
   "codemirror_mode": {
    "name": "ipython",
    "version": 3
   },
   "file_extension": ".py",
   "mimetype": "text/x-python",
   "name": "python",
   "nbconvert_exporter": "python",
   "pygments_lexer": "ipython3",
   "version": "3.12.7"
  },
  "toc": {
   "base_numbering": 1,
   "nav_menu": {},
   "number_sections": true,
   "sideBar": true,
   "skip_h1_title": true,
   "title_cell": "Table of Contents",
   "title_sidebar": "Contents",
   "toc_cell": false,
   "toc_position": {},
   "toc_section_display": true,
   "toc_window_display": false
  }
 },
 "nbformat": 4,
 "nbformat_minor": 4
}
